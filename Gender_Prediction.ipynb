{
 "cells": [
  {
   "cell_type": "markdown",
   "metadata": {},
   "source": [
    "## Workflow steps\n",
    "\n",
    "1. Problem Definition\n",
    "2. Import Train and Test Set\n",
    "3. Explore Data and Generate New Features\n",
    "4. Feature Standardization\n",
    "5. Model Training and Prediction\n",
    "6. Prediction on the Test Set\n",
    "7. Export the Predicted Results\n",
    "\n"
   ]
  },
  {
   "cell_type": "markdown",
   "metadata": {},
   "source": [
    "## 1. Problem Definition and Goal: \n",
    "Dataset   that   contains   small   subset   of  website   visits   in the   past   two   months. <br>\n",
    "Goal: Predict Customer Gender after Each Click. <br>\n",
    "Approach: Solve this machine learning problem with pandas and scikit-learn. <br> \n",
    "\n"
   ]
  },
  {
   "cell_type": "markdown",
   "metadata": {},
   "source": [
    "## 2. Import train and test set"
   ]
  },
  {
   "cell_type": "code",
   "execution_count": 36,
   "metadata": {
    "collapsed": true
   },
   "outputs": [],
   "source": [
    "# Load libraries for data analysis \n",
    "import pandas as pd\n",
    "import numpy as np\n",
    "#from pandas.tools.plotting import scatter_matrix\n",
    "# Load libraries for visualization\n",
    "import matplotlib.pyplot as plt\n",
    "import seaborn as sns\n",
    "# Load libraries for machine learning\n",
    "from sklearn.model_selection import cross_val_score\n",
    "from sklearn.linear_model import LogisticRegression\n",
    "%matplotlib inline"
   ]
  },
  {
   "cell_type": "code",
   "execution_count": 37,
   "metadata": {
    "collapsed": false
   },
   "outputs": [
    {
     "data": {
      "text/html": [
       "<div>\n",
       "<style scoped>\n",
       "    .dataframe tbody tr th:only-of-type {\n",
       "        vertical-align: middle;\n",
       "    }\n",
       "\n",
       "    .dataframe tbody tr th {\n",
       "        vertical-align: top;\n",
       "    }\n",
       "\n",
       "    .dataframe thead th {\n",
       "        text-align: right;\n",
       "    }\n",
       "</style>\n",
       "<table border=\"1\" class=\"dataframe\">\n",
       "  <thead>\n",
       "    <tr style=\"text-align: right;\">\n",
       "      <th></th>\n",
       "      <th>client_id</th>\n",
       "      <th>host_name</th>\n",
       "      <th>page_path</th>\n",
       "      <th>click_time</th>\n",
       "      <th>gender</th>\n",
       "    </tr>\n",
       "  </thead>\n",
       "  <tbody>\n",
       "    <tr>\n",
       "      <th>0</th>\n",
       "      <td>ef90dd347a4d9c6ab54b2260c0ead5c52ebe480982aadc...</td>\n",
       "      <td>www.lesara.it</td>\n",
       "      <td>54fc1f523d80f473504ec21537ea4fdfaca8ae7d151a5c...</td>\n",
       "      <td>1502970344047</td>\n",
       "      <td>2</td>\n",
       "    </tr>\n",
       "    <tr>\n",
       "      <th>1</th>\n",
       "      <td>a2b59f5b6e46b21d9a3c73c10ded2c26e705362190d0f5...</td>\n",
       "      <td>www.lesara.it</td>\n",
       "      <td>8a5d4b53854e81fb2b6086d3df16f1ec07f4160a99c172...</td>\n",
       "      <td>1502970344529</td>\n",
       "      <td>2</td>\n",
       "    </tr>\n",
       "    <tr>\n",
       "      <th>2</th>\n",
       "      <td>d2f62a3ec51b100ea6e7338247e1820a6cba30b2ed1e48...</td>\n",
       "      <td>www.lesara.it</td>\n",
       "      <td>cd0ef75ebe8be4785e8ab68b029ee54e376700c3918405...</td>\n",
       "      <td>1502970345265</td>\n",
       "      <td>2</td>\n",
       "    </tr>\n",
       "    <tr>\n",
       "      <th>3</th>\n",
       "      <td>a25bc46af1f58744ea4cc210ad39e3b48c78e632de468a...</td>\n",
       "      <td>www.lesara.it</td>\n",
       "      <td>3f74d8ea5206f388aceaf6ff6a3d9111a1ade37fccb938...</td>\n",
       "      <td>1502970346856</td>\n",
       "      <td>2</td>\n",
       "    </tr>\n",
       "    <tr>\n",
       "      <th>4</th>\n",
       "      <td>4c414b0337a69934083023a82326883f3ba8bfd385d703...</td>\n",
       "      <td>www.lesara.it</td>\n",
       "      <td>a82cd1fe6e31fe07f238d202395c347dc60a6172d2bbfe...</td>\n",
       "      <td>1502970348018</td>\n",
       "      <td>1</td>\n",
       "    </tr>\n",
       "  </tbody>\n",
       "</table>\n",
       "</div>"
      ],
      "text/plain": [
       "                                           client_id      host_name  \\\n",
       "0  ef90dd347a4d9c6ab54b2260c0ead5c52ebe480982aadc...  www.lesara.it   \n",
       "1  a2b59f5b6e46b21d9a3c73c10ded2c26e705362190d0f5...  www.lesara.it   \n",
       "2  d2f62a3ec51b100ea6e7338247e1820a6cba30b2ed1e48...  www.lesara.it   \n",
       "3  a25bc46af1f58744ea4cc210ad39e3b48c78e632de468a...  www.lesara.it   \n",
       "4  4c414b0337a69934083023a82326883f3ba8bfd385d703...  www.lesara.it   \n",
       "\n",
       "                                           page_path     click_time  gender  \n",
       "0  54fc1f523d80f473504ec21537ea4fdfaca8ae7d151a5c...  1502970344047       2  \n",
       "1  8a5d4b53854e81fb2b6086d3df16f1ec07f4160a99c172...  1502970344529       2  \n",
       "2  cd0ef75ebe8be4785e8ab68b029ee54e376700c3918405...  1502970345265       2  \n",
       "3  3f74d8ea5206f388aceaf6ff6a3d9111a1ade37fccb938...  1502970346856       2  \n",
       "4  a82cd1fe6e31fe07f238d202395c347dc60a6172d2bbfe...  1502970348018       1  "
      ]
     },
     "execution_count": 37,
     "metadata": {},
     "output_type": "execute_result"
    }
   ],
   "source": [
    "train_data = pd.read_csv('train.csv', sep=',')\n",
    "train_data.head()"
   ]
  },
  {
   "cell_type": "code",
   "execution_count": 38,
   "metadata": {
    "collapsed": false
   },
   "outputs": [],
   "source": [
    "test_data = pd.read_csv('test.csv', sep=',')"
   ]
  },
  {
   "cell_type": "markdown",
   "metadata": {},
   "source": [
    "## 3. Explore data and generate new features"
   ]
  },
  {
   "cell_type": "markdown",
   "metadata": {},
   "source": [
    "**Assumption: I discard host_name as I assume no difference in gender proportion between UK and Italy**"
   ]
  },
  {
   "cell_type": "code",
   "execution_count": 39,
   "metadata": {
    "collapsed": false
   },
   "outputs": [
    {
     "data": {
      "text/plain": [
       "client_id     False\n",
       "host_name     False\n",
       "page_path     False\n",
       "click_time    False\n",
       "gender        False\n",
       "dtype: bool"
      ]
     },
     "execution_count": 39,
     "metadata": {},
     "output_type": "execute_result"
    }
   ],
   "source": [
    "# Check if missing values exist for each column - if I do find missing values, I have to decide on how to deal with them:\n",
    "# removing those - dangerous, replace finite numbers (-999), let the algorithm treat those as outliers, replace median, mean\n",
    "train_data.isnull().any()"
   ]
  },
  {
   "cell_type": "code",
   "execution_count": 40,
   "metadata": {
    "collapsed": false
   },
   "outputs": [
    {
     "data": {
      "image/png": "[encoded data removed]",
      "text/plain": [
       "<matplotlib.figure.Figure at 0x11f428ac8>"
      ]
     },
     "metadata": {},
     "output_type": "display_data"
    }
   ],
   "source": [
    "# Here I want to compute the ratio of female and male over the total - to take into account for model training\n",
    "# if I have unbalanced classes\n",
    "\n",
    "no_male=train_data.groupby('gender').size()[1]\n",
    "no_female=train_data.groupby('gender').size()[2]\n",
    "perc_male=round(float(no_male)/float(no_male+no_female),2)\n",
    "perc_female=round(float(no_female)/float(no_male+no_female),2)\n",
    "\n",
    "# Pie chart\n",
    "labels = 'male', 'female'\n",
    "sizes = [perc_male,perc_female]\n",
    "plt.pie(sizes, explode=None, labels=labels,\n",
    "        autopct='%1.0f%%',startangle=270)\n",
    " \n",
    "plt.axis('equal')\n",
    "plt.show()\n",
    "\n"
   ]
  },
  {
   "cell_type": "markdown",
   "metadata": {},
   "source": [
    "Here I want to compare the datetime of the training with that of the test set (time span, period of the year etc) to decide on which units to take into account for feature engineering."
   ]
  },
  {
   "cell_type": "code",
   "execution_count": 41,
   "metadata": {
    "collapsed": false
   },
   "outputs": [],
   "source": [
    "min_t_train = train_data['click_time'].min()\n",
    "max_t_train = train_data['click_time'].max()"
   ]
  },
  {
   "cell_type": "code",
   "execution_count": 42,
   "metadata": {
    "collapsed": false
   },
   "outputs": [],
   "source": [
    "min_t_test = test_data['click_time'].min()\n",
    "max_t_test = test_data['click_time'].max()"
   ]
  },
  {
   "cell_type": "code",
   "execution_count": 43,
   "metadata": {
    "collapsed": false,
    "scrolled": true
   },
   "outputs": [
    {
     "name": "stdout",
     "output_type": "stream",
     "text": [
      "38.2019419213 9.52874851852\n",
      "2017-07-10 17:09:11.142000 2017-08-17 21:59:58.924000\n",
      "2017-07-01 22:00:00 2017-07-11 10:41:23.872000\n"
     ]
    }
   ],
   "source": [
    "# Convert posix time into datetime\n",
    "\n",
    "min_t_train_ep = pd.to_datetime(min_t_train, unit='ms')\n",
    "max_t_train_ep = pd.to_datetime(max_t_train, unit='ms')\n",
    "\n",
    "min_t_test_ep = pd.to_datetime(min_t_test, unit='ms')\n",
    "max_t_test_ep = pd.to_datetime(max_t_test, unit='ms')\n",
    "\n",
    "tot_day_train = (max_t_train - min_t_train)/1000/3600/24 #seconds\n",
    "tot_day_test = (max_t_test - min_t_test)/1000/3600/24\n",
    "print(tot_day_train,tot_day_test)\n",
    "print(min_t_train_ep,max_t_train_ep)\n",
    "print(min_t_test_ep,max_t_test_ep)"
   ]
  },
  {
   "cell_type": "markdown",
   "metadata": {},
   "source": [
    "### Feature Generation"
   ]
  },
  {
   "cell_type": "markdown",
   "metadata": {},
   "source": [
    "**Fraction of Male and Female Visitors per Page**\n",
    "\n",
    "Metric of \"maleness\" and \"femaleness\" for each page.\n",
    "\n",
    "How: I build a function to compute the fraction of male page visitors on the total visitors per page. I don't take into account female fraction as it is just 1 - male_fraction, hence the same feature. "
   ]
  },
  {
   "cell_type": "code",
   "execution_count": 44,
   "metadata": {
    "collapsed": false
   },
   "outputs": [],
   "source": [
    "def get_male_page(rows):\n",
    "    no_visitors = rows.client_id.unique().size # size includes NaN, count doesn't\n",
    "    return rows[rows.gender == 1][\"client_id\"].unique().size / no_visitors\n",
    "    #rows with all page path filtered \n",
    "male_page = train_data.groupby('page_path').apply(get_male_page) #two columns \n"
   ]
  },
  {
   "cell_type": "code",
   "execution_count": 45,
   "metadata": {
    "collapsed": false
   },
   "outputs": [
    {
     "data": {
      "text/html": [
       "<div>\n",
       "<style scoped>\n",
       "    .dataframe tbody tr th:only-of-type {\n",
       "        vertical-align: middle;\n",
       "    }\n",
       "\n",
       "    .dataframe tbody tr th {\n",
       "        vertical-align: top;\n",
       "    }\n",
       "\n",
       "    .dataframe thead th {\n",
       "        text-align: right;\n",
       "    }\n",
       "</style>\n",
       "<table border=\"1\" class=\"dataframe\">\n",
       "  <thead>\n",
       "    <tr style=\"text-align: right;\">\n",
       "      <th></th>\n",
       "      <th>client_id</th>\n",
       "      <th>host_name</th>\n",
       "      <th>page_path</th>\n",
       "      <th>click_time</th>\n",
       "      <th>gender</th>\n",
       "      <th>page_frac_male</th>\n",
       "    </tr>\n",
       "  </thead>\n",
       "  <tbody>\n",
       "    <tr>\n",
       "      <th>0</th>\n",
       "      <td>ef90dd347a4d9c6ab54b2260c0ead5c52ebe480982aadc...</td>\n",
       "      <td>www.lesara.it</td>\n",
       "      <td>54fc1f523d80f473504ec21537ea4fdfaca8ae7d151a5c...</td>\n",
       "      <td>1502970344047</td>\n",
       "      <td>2</td>\n",
       "      <td>0.194888</td>\n",
       "    </tr>\n",
       "    <tr>\n",
       "      <th>50</th>\n",
       "      <td>ef90dd347a4d9c6ab54b2260c0ead5c52ebe480982aadc...</td>\n",
       "      <td>www.lesara.it</td>\n",
       "      <td>54fc1f523d80f473504ec21537ea4fdfaca8ae7d151a5c...</td>\n",
       "      <td>1502970403859</td>\n",
       "      <td>2</td>\n",
       "      <td>0.194888</td>\n",
       "    </tr>\n",
       "    <tr>\n",
       "      <th>313</th>\n",
       "      <td>ef90dd347a4d9c6ab54b2260c0ead5c52ebe480982aadc...</td>\n",
       "      <td>www.lesara.it</td>\n",
       "      <td>54fc1f523d80f473504ec21537ea4fdfaca8ae7d151a5c...</td>\n",
       "      <td>1502970607921</td>\n",
       "      <td>2</td>\n",
       "      <td>0.194888</td>\n",
       "    </tr>\n",
       "    <tr>\n",
       "      <th>591</th>\n",
       "      <td>ef90dd347a4d9c6ab54b2260c0ead5c52ebe480982aadc...</td>\n",
       "      <td>www.lesara.it</td>\n",
       "      <td>54fc1f523d80f473504ec21537ea4fdfaca8ae7d151a5c...</td>\n",
       "      <td>1502970800486</td>\n",
       "      <td>2</td>\n",
       "      <td>0.194888</td>\n",
       "    </tr>\n",
       "    <tr>\n",
       "      <th>669</th>\n",
       "      <td>ef90dd347a4d9c6ab54b2260c0ead5c52ebe480982aadc...</td>\n",
       "      <td>www.lesara.it</td>\n",
       "      <td>54fc1f523d80f473504ec21537ea4fdfaca8ae7d151a5c...</td>\n",
       "      <td>1502970845638</td>\n",
       "      <td>2</td>\n",
       "      <td>0.194888</td>\n",
       "    </tr>\n",
       "  </tbody>\n",
       "</table>\n",
       "</div>"
      ],
      "text/plain": [
       "                                             client_id      host_name  \\\n",
       "0    ef90dd347a4d9c6ab54b2260c0ead5c52ebe480982aadc...  www.lesara.it   \n",
       "50   ef90dd347a4d9c6ab54b2260c0ead5c52ebe480982aadc...  www.lesara.it   \n",
       "313  ef90dd347a4d9c6ab54b2260c0ead5c52ebe480982aadc...  www.lesara.it   \n",
       "591  ef90dd347a4d9c6ab54b2260c0ead5c52ebe480982aadc...  www.lesara.it   \n",
       "669  ef90dd347a4d9c6ab54b2260c0ead5c52ebe480982aadc...  www.lesara.it   \n",
       "\n",
       "                                             page_path     click_time  gender  \\\n",
       "0    54fc1f523d80f473504ec21537ea4fdfaca8ae7d151a5c...  1502970344047       2   \n",
       "50   54fc1f523d80f473504ec21537ea4fdfaca8ae7d151a5c...  1502970403859       2   \n",
       "313  54fc1f523d80f473504ec21537ea4fdfaca8ae7d151a5c...  1502970607921       2   \n",
       "591  54fc1f523d80f473504ec21537ea4fdfaca8ae7d151a5c...  1502970800486       2   \n",
       "669  54fc1f523d80f473504ec21537ea4fdfaca8ae7d151a5c...  1502970845638       2   \n",
       "\n",
       "     page_frac_male  \n",
       "0          0.194888  \n",
       "50         0.194888  \n",
       "313        0.194888  \n",
       "591        0.194888  \n",
       "669        0.194888  "
      ]
     },
     "execution_count": 45,
     "metadata": {},
     "output_type": "execute_result"
    }
   ],
   "source": [
    "train_data = train_data.join(male_page.to_frame(name=\"page_frac_male\"), on=\"page_path\", how=\"right\") # why right? because \n",
    "#I want to keep all page_frac_male and join train-data on the common values\n",
    "train_data.head()"
   ]
  },
  {
   "cell_type": "code",
   "execution_count": 46,
   "metadata": {
    "collapsed": true
   },
   "outputs": [],
   "source": [
    "train_data = train_data.sort_values(by=['client_id','click_time'], ascending=True)"
   ]
  },
  {
   "cell_type": "code",
   "execution_count": 49,
   "metadata": {
    "collapsed": false
   },
   "outputs": [
    {
     "data": {
      "text/html": [
       "<div>\n",
       "<style scoped>\n",
       "    .dataframe tbody tr th:only-of-type {\n",
       "        vertical-align: middle;\n",
       "    }\n",
       "\n",
       "    .dataframe tbody tr th {\n",
       "        vertical-align: top;\n",
       "    }\n",
       "\n",
       "    .dataframe thead th {\n",
       "        text-align: right;\n",
       "    }\n",
       "</style>\n",
       "<table border=\"1\" class=\"dataframe\">\n",
       "  <thead>\n",
       "    <tr style=\"text-align: right;\">\n",
       "      <th></th>\n",
       "      <th>page_frac_male</th>\n",
       "    </tr>\n",
       "    <tr>\n",
       "      <th>client_id</th>\n",
       "      <th></th>\n",
       "    </tr>\n",
       "  </thead>\n",
       "  <tbody>\n",
       "    <tr>\n",
       "      <th>00015b2ca0bc82750b4e306899d5ff2ea4d304a3795e3aecce84c333</th>\n",
       "      <td>0.000867</td>\n",
       "    </tr>\n",
       "    <tr>\n",
       "      <th>0002890fbe79c2a9fef6436f3e4b09f919386bb34b27a0d69544b569</th>\n",
       "      <td>0.070301</td>\n",
       "    </tr>\n",
       "    <tr>\n",
       "      <th>0003549f24d6fb2695f73e63708dd9c3e4cfd362f956db0a04ad8cac</th>\n",
       "      <td>0.001559</td>\n",
       "    </tr>\n",
       "    <tr>\n",
       "      <th>00037e40777e886343763c750f8a95e338be0cb970e80f5f52b1ea54</th>\n",
       "      <td>0.002549</td>\n",
       "    </tr>\n",
       "    <tr>\n",
       "      <th>000502d1f19fb52fe9f7b72911cc009a0ea17569ad83034ac47820d4</th>\n",
       "      <td>0.014046</td>\n",
       "    </tr>\n",
       "  </tbody>\n",
       "</table>\n",
       "</div>"
      ],
      "text/plain": [
       "                                                    page_frac_male\n",
       "client_id                                                         \n",
       "00015b2ca0bc82750b4e306899d5ff2ea4d304a3795e3ae...        0.000867\n",
       "0002890fbe79c2a9fef6436f3e4b09f919386bb34b27a0d...        0.070301\n",
       "0003549f24d6fb2695f73e63708dd9c3e4cfd362f956db0...        0.001559\n",
       "00037e40777e886343763c750f8a95e338be0cb970e80f5...        0.002549\n",
       "000502d1f19fb52fe9f7b72911cc009a0ea17569ad83034...        0.014046"
      ]
     },
     "execution_count": 49,
     "metadata": {},
     "output_type": "execute_result"
    }
   ],
   "source": [
    "avg_male = train_data.groupby(\"client_id\").agg({\"page_frac_male\": \"mean\"})\n",
    "var_male = train_data.groupby(\"client_id\").agg({\"page_frac_male\": \"var\"})\n",
    "\n",
    "\n",
    "var_male.head()"
   ]
  },
  {
   "cell_type": "markdown",
   "metadata": {},
   "source": [
    "**Number of Clicks per Day** \n",
    "\n",
    "How: I normalize the number of clicks per day for unique clients"
   ]
  },
  {
   "cell_type": "code",
   "execution_count": 13,
   "metadata": {
    "collapsed": false
   },
   "outputs": [
    {
     "data": {
      "text/html": [
       "<div>\n",
       "<style scoped>\n",
       "    .dataframe tbody tr th:only-of-type {\n",
       "        vertical-align: middle;\n",
       "    }\n",
       "\n",
       "    .dataframe tbody tr th {\n",
       "        vertical-align: top;\n",
       "    }\n",
       "\n",
       "    .dataframe thead th {\n",
       "        text-align: right;\n",
       "    }\n",
       "</style>\n",
       "<table border=\"1\" class=\"dataframe\">\n",
       "  <thead>\n",
       "    <tr style=\"text-align: right;\">\n",
       "      <th></th>\n",
       "      <th>click/day</th>\n",
       "    </tr>\n",
       "    <tr>\n",
       "      <th>client_id</th>\n",
       "      <th></th>\n",
       "    </tr>\n",
       "  </thead>\n",
       "  <tbody>\n",
       "    <tr>\n",
       "      <th>00015b2ca0bc82750b4e306899d5ff2ea4d304a3795e3aecce84c333</th>\n",
       "      <td>0.130883</td>\n",
       "    </tr>\n",
       "    <tr>\n",
       "      <th>0002890fbe79c2a9fef6436f3e4b09f919386bb34b27a0d69544b569</th>\n",
       "      <td>0.340297</td>\n",
       "    </tr>\n",
       "    <tr>\n",
       "      <th>0003549f24d6fb2695f73e63708dd9c3e4cfd362f956db0a04ad8cac</th>\n",
       "      <td>0.183237</td>\n",
       "    </tr>\n",
       "    <tr>\n",
       "      <th>00037e40777e886343763c750f8a95e338be0cb970e80f5f52b1ea54</th>\n",
       "      <td>1.335011</td>\n",
       "    </tr>\n",
       "    <tr>\n",
       "      <th>000502d1f19fb52fe9f7b72911cc009a0ea17569ad83034ac47820d4</th>\n",
       "      <td>0.497357</td>\n",
       "    </tr>\n",
       "  </tbody>\n",
       "</table>\n",
       "</div>"
      ],
      "text/plain": [
       "                                                    click/day\n",
       "client_id                                                    \n",
       "00015b2ca0bc82750b4e306899d5ff2ea4d304a3795e3ae...   0.130883\n",
       "0002890fbe79c2a9fef6436f3e4b09f919386bb34b27a0d...   0.340297\n",
       "0003549f24d6fb2695f73e63708dd9c3e4cfd362f956db0...   0.183237\n",
       "00037e40777e886343763c750f8a95e338be0cb970e80f5...   1.335011\n",
       "000502d1f19fb52fe9f7b72911cc009a0ea17569ad83034...   0.497357"
      ]
     },
     "execution_count": 13,
     "metadata": {},
     "output_type": "execute_result"
    }
   ],
   "source": [
    "click_per_day = (train_data[['client_id','page_path']].groupby('client_id').agg('count'))/tot_day_train\n",
    "click_per_day['click/day'] = click_per_day['page_path']\n",
    "del click_per_day['page_path']\n",
    "click_per_day.head()"
   ]
  },
  {
   "cell_type": "markdown",
   "metadata": {},
   "source": [
    "**Number of Sessions per Day**\n",
    "\n",
    "How: I define a session as the timedelta between two consecutive times, if equal or bigger than 30min (standard Google Analytics metric). In order to derive this feature, I build a function that computes the difference between consecutive values, then I select only those values bigger than 30min and sum up the true values. To avoid counting a single click as zero session, I add 1 to each sum."
   ]
  },
  {
   "cell_type": "code",
   "execution_count": 14,
   "metadata": {
    "collapsed": false
   },
   "outputs": [],
   "source": [
    "def get_no_session(rows):\n",
    "    delta_click = rows.diff()\n",
    "    return (delta_click > 1800000).sum() + 1\n",
    "    \n",
    "no_sessions_per_day = train_data.groupby('client_id').agg({'click_time': get_no_session})/tot_day_train"
   ]
  },
  {
   "cell_type": "code",
   "execution_count": 15,
   "metadata": {
    "collapsed": false
   },
   "outputs": [
    {
     "data": {
      "text/html": [
       "<div>\n",
       "<style scoped>\n",
       "    .dataframe tbody tr th:only-of-type {\n",
       "        vertical-align: middle;\n",
       "    }\n",
       "\n",
       "    .dataframe tbody tr th {\n",
       "        vertical-align: top;\n",
       "    }\n",
       "\n",
       "    .dataframe thead th {\n",
       "        text-align: right;\n",
       "    }\n",
       "</style>\n",
       "<table border=\"1\" class=\"dataframe\">\n",
       "  <thead>\n",
       "    <tr style=\"text-align: right;\">\n",
       "      <th></th>\n",
       "      <th>no_sessions/day</th>\n",
       "    </tr>\n",
       "    <tr>\n",
       "      <th>client_id</th>\n",
       "      <th></th>\n",
       "    </tr>\n",
       "  </thead>\n",
       "  <tbody>\n",
       "    <tr>\n",
       "      <th>00015b2ca0bc82750b4e306899d5ff2ea4d304a3795e3aecce84c333</th>\n",
       "      <td>0.104707</td>\n",
       "    </tr>\n",
       "    <tr>\n",
       "      <th>0002890fbe79c2a9fef6436f3e4b09f919386bb34b27a0d69544b569</th>\n",
       "      <td>0.130883</td>\n",
       "    </tr>\n",
       "    <tr>\n",
       "      <th>0003549f24d6fb2695f73e63708dd9c3e4cfd362f956db0a04ad8cac</th>\n",
       "      <td>0.026177</td>\n",
       "    </tr>\n",
       "    <tr>\n",
       "      <th>00037e40777e886343763c750f8a95e338be0cb970e80f5f52b1ea54</th>\n",
       "      <td>0.052353</td>\n",
       "    </tr>\n",
       "    <tr>\n",
       "      <th>000502d1f19fb52fe9f7b72911cc009a0ea17569ad83034ac47820d4</th>\n",
       "      <td>0.104707</td>\n",
       "    </tr>\n",
       "  </tbody>\n",
       "</table>\n",
       "</div>"
      ],
      "text/plain": [
       "                                                    no_sessions/day\n",
       "client_id                                                          \n",
       "00015b2ca0bc82750b4e306899d5ff2ea4d304a3795e3ae...         0.104707\n",
       "0002890fbe79c2a9fef6436f3e4b09f919386bb34b27a0d...         0.130883\n",
       "0003549f24d6fb2695f73e63708dd9c3e4cfd362f956db0...         0.026177\n",
       "00037e40777e886343763c750f8a95e338be0cb970e80f5...         0.052353\n",
       "000502d1f19fb52fe9f7b72911cc009a0ea17569ad83034...         0.104707"
      ]
     },
     "execution_count": 15,
     "metadata": {},
     "output_type": "execute_result"
    }
   ],
   "source": [
    "no_sessions_per_day['no_sessions/day'] = no_sessions_per_day['click_time']\n",
    "del no_sessions_per_day['click_time']\n",
    "no_sessions_per_day.head()"
   ]
  },
  {
   "cell_type": "markdown",
   "metadata": {},
   "source": [
    "**Average time spent on page view**\n",
    "\n",
    "How: I build a function that computes the difference between consecutive values and then I select only those values smaller than 30min (this way I take into account only the timedeltas within sessions) and sum up the values."
   ]
  },
  {
   "cell_type": "code",
   "execution_count": 16,
   "metadata": {
    "collapsed": false
   },
   "outputs": [],
   "source": [
    "def get_time_view(rows):\n",
    "    no_clicks = rows.count()\n",
    "    delta_click = rows.diff()\n",
    "    return (delta_click[delta_click <= 1800000]).sum() / no_clicks\n",
    "\n",
    "time_spent_view= train_data.groupby('client_id').agg({'click_time': get_time_view})"
   ]
  },
  {
   "cell_type": "code",
   "execution_count": 17,
   "metadata": {
    "collapsed": false
   },
   "outputs": [
    {
     "data": {
      "text/html": [
       "<div>\n",
       "<style scoped>\n",
       "    .dataframe tbody tr th:only-of-type {\n",
       "        vertical-align: middle;\n",
       "    }\n",
       "\n",
       "    .dataframe tbody tr th {\n",
       "        vertical-align: top;\n",
       "    }\n",
       "\n",
       "    .dataframe thead th {\n",
       "        text-align: right;\n",
       "    }\n",
       "</style>\n",
       "<table border=\"1\" class=\"dataframe\">\n",
       "  <thead>\n",
       "    <tr style=\"text-align: right;\">\n",
       "      <th></th>\n",
       "      <th>avg_time_page [min]</th>\n",
       "    </tr>\n",
       "    <tr>\n",
       "      <th>client_id</th>\n",
       "      <th></th>\n",
       "    </tr>\n",
       "  </thead>\n",
       "  <tbody>\n",
       "    <tr>\n",
       "      <th>00015b2ca0bc82750b4e306899d5ff2ea4d304a3795e3aecce84c333</th>\n",
       "      <td>0.041663</td>\n",
       "    </tr>\n",
       "    <tr>\n",
       "      <th>0002890fbe79c2a9fef6436f3e4b09f919386bb34b27a0d69544b569</th>\n",
       "      <td>0.778121</td>\n",
       "    </tr>\n",
       "    <tr>\n",
       "      <th>0003549f24d6fb2695f73e63708dd9c3e4cfd362f956db0a04ad8cac</th>\n",
       "      <td>1.065279</td>\n",
       "    </tr>\n",
       "    <tr>\n",
       "      <th>00037e40777e886343763c750f8a95e338be0cb970e80f5f52b1ea54</th>\n",
       "      <td>0.780762</td>\n",
       "    </tr>\n",
       "    <tr>\n",
       "      <th>000502d1f19fb52fe9f7b72911cc009a0ea17569ad83034ac47820d4</th>\n",
       "      <td>0.806754</td>\n",
       "    </tr>\n",
       "  </tbody>\n",
       "</table>\n",
       "</div>"
      ],
      "text/plain": [
       "                                                    avg_time_page [min]\n",
       "client_id                                                              \n",
       "00015b2ca0bc82750b4e306899d5ff2ea4d304a3795e3ae...             0.041663\n",
       "0002890fbe79c2a9fef6436f3e4b09f919386bb34b27a0d...             0.778121\n",
       "0003549f24d6fb2695f73e63708dd9c3e4cfd362f956db0...             1.065279\n",
       "00037e40777e886343763c750f8a95e338be0cb970e80f5...             0.780762\n",
       "000502d1f19fb52fe9f7b72911cc009a0ea17569ad83034...             0.806754"
      ]
     },
     "execution_count": 17,
     "metadata": {},
     "output_type": "execute_result"
    }
   ],
   "source": [
    "time_spent_view['avg_time_page [min]'] = (time_spent_view['click_time'])/60000 #minutes\n",
    "del time_spent_view['click_time']\n",
    "time_spent_view.head(5)"
   ]
  },
  {
   "cell_type": "code",
   "execution_count": 18,
   "metadata": {
    "collapsed": false
   },
   "outputs": [
    {
     "data": {
      "text/html": [
       "<div>\n",
       "<style scoped>\n",
       "    .dataframe tbody tr th:only-of-type {\n",
       "        vertical-align: middle;\n",
       "    }\n",
       "\n",
       "    .dataframe tbody tr th {\n",
       "        vertical-align: top;\n",
       "    }\n",
       "\n",
       "    .dataframe thead th {\n",
       "        text-align: right;\n",
       "    }\n",
       "</style>\n",
       "<table border=\"1\" class=\"dataframe\">\n",
       "  <thead>\n",
       "    <tr style=\"text-align: right;\">\n",
       "      <th></th>\n",
       "      <th>avg_time_page [min]</th>\n",
       "    </tr>\n",
       "  </thead>\n",
       "  <tbody>\n",
       "    <tr>\n",
       "      <th>count</th>\n",
       "      <td>84252.000000</td>\n",
       "    </tr>\n",
       "    <tr>\n",
       "      <th>mean</th>\n",
       "      <td>0.826849</td>\n",
       "    </tr>\n",
       "    <tr>\n",
       "      <th>std</th>\n",
       "      <td>0.715912</td>\n",
       "    </tr>\n",
       "    <tr>\n",
       "      <th>min</th>\n",
       "      <td>0.000024</td>\n",
       "    </tr>\n",
       "    <tr>\n",
       "      <th>25%</th>\n",
       "      <td>0.415338</td>\n",
       "    </tr>\n",
       "    <tr>\n",
       "      <th>50%</th>\n",
       "      <td>0.677985</td>\n",
       "    </tr>\n",
       "    <tr>\n",
       "      <th>75%</th>\n",
       "      <td>1.024787</td>\n",
       "    </tr>\n",
       "    <tr>\n",
       "      <th>max</th>\n",
       "      <td>14.800000</td>\n",
       "    </tr>\n",
       "  </tbody>\n",
       "</table>\n",
       "</div>"
      ],
      "text/plain": [
       "       avg_time_page [min]\n",
       "count         84252.000000\n",
       "mean              0.826849\n",
       "std               0.715912\n",
       "min               0.000024\n",
       "25%               0.415338\n",
       "50%               0.677985\n",
       "75%               1.024787\n",
       "max              14.800000"
      ]
     },
     "execution_count": 18,
     "metadata": {},
     "output_type": "execute_result"
    }
   ],
   "source": [
    "time_spent_view.describe()"
   ]
  },
  {
   "cell_type": "markdown",
   "metadata": {},
   "source": [
    "Merge the generated user features into a single dataframe"
   ]
  },
  {
   "cell_type": "code",
   "execution_count": 19,
   "metadata": {
    "collapsed": false
   },
   "outputs": [
    {
     "data": {
      "text/plain": [
       "(94594, 1)"
      ]
     },
     "execution_count": 19,
     "metadata": {},
     "output_type": "execute_result"
    }
   ],
   "source": [
    "train_data_red = train_data[['client_id','gender']].drop_duplicates().set_index('client_id')\n",
    "train_data_red.shape"
   ]
  },
  {
   "cell_type": "code",
   "execution_count": 20,
   "metadata": {
    "collapsed": false
   },
   "outputs": [],
   "source": [
    "train_data_merged = train_data_red\\\n",
    "    .merge(click_per_day, how='outer', left_index=True, right_index=True)\\\n",
    "    .merge(no_sessions_per_day,how='outer', left_index=True, right_index=True)\\\n",
    "    .merge(time_spent_view, how='outer', left_index=True, right_index=True)\\\n",
    "    .merge(avg_male, how='outer', left_index=True, right_index=True)"
   ]
  },
  {
   "cell_type": "code",
   "execution_count": 21,
   "metadata": {
    "collapsed": false
   },
   "outputs": [
    {
     "data": {
      "text/html": [
       "<div>\n",
       "<style scoped>\n",
       "    .dataframe tbody tr th:only-of-type {\n",
       "        vertical-align: middle;\n",
       "    }\n",
       "\n",
       "    .dataframe tbody tr th {\n",
       "        vertical-align: top;\n",
       "    }\n",
       "\n",
       "    .dataframe thead th {\n",
       "        text-align: right;\n",
       "    }\n",
       "</style>\n",
       "<table border=\"1\" class=\"dataframe\">\n",
       "  <thead>\n",
       "    <tr style=\"text-align: right;\">\n",
       "      <th></th>\n",
       "      <th>gender</th>\n",
       "      <th>click/day</th>\n",
       "      <th>no_sessions/day</th>\n",
       "      <th>avg_time_page [min]</th>\n",
       "      <th>page_frac_male</th>\n",
       "    </tr>\n",
       "    <tr>\n",
       "      <th>client_id</th>\n",
       "      <th></th>\n",
       "      <th></th>\n",
       "      <th></th>\n",
       "      <th></th>\n",
       "      <th></th>\n",
       "    </tr>\n",
       "  </thead>\n",
       "  <tbody>\n",
       "    <tr>\n",
       "      <th>00015b2ca0bc82750b4e306899d5ff2ea4d304a3795e3aecce84c333</th>\n",
       "      <td>1</td>\n",
       "      <td>0.130883</td>\n",
       "      <td>0.104707</td>\n",
       "      <td>0.041663</td>\n",
       "      <td>0.297714</td>\n",
       "    </tr>\n",
       "    <tr>\n",
       "      <th>0002890fbe79c2a9fef6436f3e4b09f919386bb34b27a0d69544b569</th>\n",
       "      <td>1</td>\n",
       "      <td>0.340297</td>\n",
       "      <td>0.130883</td>\n",
       "      <td>0.778121</td>\n",
       "      <td>0.548058</td>\n",
       "    </tr>\n",
       "    <tr>\n",
       "      <th>0003549f24d6fb2695f73e63708dd9c3e4cfd362f956db0a04ad8cac</th>\n",
       "      <td>2</td>\n",
       "      <td>0.183237</td>\n",
       "      <td>0.026177</td>\n",
       "      <td>1.065279</td>\n",
       "      <td>0.284089</td>\n",
       "    </tr>\n",
       "    <tr>\n",
       "      <th>00037e40777e886343763c750f8a95e338be0cb970e80f5f52b1ea54</th>\n",
       "      <td>2</td>\n",
       "      <td>1.335011</td>\n",
       "      <td>0.052353</td>\n",
       "      <td>0.780762</td>\n",
       "      <td>0.252776</td>\n",
       "    </tr>\n",
       "    <tr>\n",
       "      <th>000502d1f19fb52fe9f7b72911cc009a0ea17569ad83034ac47820d4</th>\n",
       "      <td>2</td>\n",
       "      <td>0.497357</td>\n",
       "      <td>0.104707</td>\n",
       "      <td>0.806754</td>\n",
       "      <td>0.229509</td>\n",
       "    </tr>\n",
       "  </tbody>\n",
       "</table>\n",
       "</div>"
      ],
      "text/plain": [
       "                                                    gender  click/day  \\\n",
       "client_id                                                               \n",
       "00015b2ca0bc82750b4e306899d5ff2ea4d304a3795e3ae...       1   0.130883   \n",
       "0002890fbe79c2a9fef6436f3e4b09f919386bb34b27a0d...       1   0.340297   \n",
       "0003549f24d6fb2695f73e63708dd9c3e4cfd362f956db0...       2   0.183237   \n",
       "00037e40777e886343763c750f8a95e338be0cb970e80f5...       2   1.335011   \n",
       "000502d1f19fb52fe9f7b72911cc009a0ea17569ad83034...       2   0.497357   \n",
       "\n",
       "                                                    no_sessions/day  \\\n",
       "client_id                                                             \n",
       "00015b2ca0bc82750b4e306899d5ff2ea4d304a3795e3ae...         0.104707   \n",
       "0002890fbe79c2a9fef6436f3e4b09f919386bb34b27a0d...         0.130883   \n",
       "0003549f24d6fb2695f73e63708dd9c3e4cfd362f956db0...         0.026177   \n",
       "00037e40777e886343763c750f8a95e338be0cb970e80f5...         0.052353   \n",
       "000502d1f19fb52fe9f7b72911cc009a0ea17569ad83034...         0.104707   \n",
       "\n",
       "                                                    avg_time_page [min]  \\\n",
       "client_id                                                                 \n",
       "00015b2ca0bc82750b4e306899d5ff2ea4d304a3795e3ae...             0.041663   \n",
       "0002890fbe79c2a9fef6436f3e4b09f919386bb34b27a0d...             0.778121   \n",
       "0003549f24d6fb2695f73e63708dd9c3e4cfd362f956db0...             1.065279   \n",
       "00037e40777e886343763c750f8a95e338be0cb970e80f5...             0.780762   \n",
       "000502d1f19fb52fe9f7b72911cc009a0ea17569ad83034...             0.806754   \n",
       "\n",
       "                                                    page_frac_male  \n",
       "client_id                                                           \n",
       "00015b2ca0bc82750b4e306899d5ff2ea4d304a3795e3ae...        0.297714  \n",
       "0002890fbe79c2a9fef6436f3e4b09f919386bb34b27a0d...        0.548058  \n",
       "0003549f24d6fb2695f73e63708dd9c3e4cfd362f956db0...        0.284089  \n",
       "00037e40777e886343763c750f8a95e338be0cb970e80f5...        0.252776  \n",
       "000502d1f19fb52fe9f7b72911cc009a0ea17569ad83034...        0.229509  "
      ]
     },
     "execution_count": 21,
     "metadata": {},
     "output_type": "execute_result"
    }
   ],
   "source": [
    "train_data_merged.head()"
   ]
  },
  {
   "cell_type": "markdown",
   "metadata": {},
   "source": [
    "## 4. Feature Standardization"
   ]
  },
  {
   "cell_type": "code",
   "execution_count": 22,
   "metadata": {
    "collapsed": true
   },
   "outputs": [],
   "source": [
    "features = ['click/day', 'no_sessions/day', 'avg_time_page [min]', 'page_frac_male']"
   ]
  },
  {
   "cell_type": "code",
   "execution_count": 23,
   "metadata": {
    "collapsed": true
   },
   "outputs": [],
   "source": [
    "means = train_data_merged.mean(axis=0)\n",
    "stds = train_data_merged.std(axis=0)"
   ]
  },
  {
   "cell_type": "code",
   "execution_count": 24,
   "metadata": {
    "collapsed": false
   },
   "outputs": [],
   "source": [
    "train_data_merged[features] = (train_data_merged[features] - means[features]) / stds[features]"
   ]
  },
  {
   "cell_type": "code",
   "execution_count": 25,
   "metadata": {
    "collapsed": false
   },
   "outputs": [
    {
     "data": {
      "text/html": [
       "<div>\n",
       "<style scoped>\n",
       "    .dataframe tbody tr th:only-of-type {\n",
       "        vertical-align: middle;\n",
       "    }\n",
       "\n",
       "    .dataframe tbody tr th {\n",
       "        vertical-align: top;\n",
       "    }\n",
       "\n",
       "    .dataframe thead th {\n",
       "        text-align: right;\n",
       "    }\n",
       "</style>\n",
       "<table border=\"1\" class=\"dataframe\">\n",
       "  <thead>\n",
       "    <tr style=\"text-align: right;\">\n",
       "      <th></th>\n",
       "      <th>gender</th>\n",
       "      <th>click/day</th>\n",
       "      <th>no_sessions/day</th>\n",
       "      <th>avg_time_page [min]</th>\n",
       "      <th>page_frac_male</th>\n",
       "    </tr>\n",
       "    <tr>\n",
       "      <th>client_id</th>\n",
       "      <th></th>\n",
       "      <th></th>\n",
       "      <th></th>\n",
       "      <th></th>\n",
       "      <th></th>\n",
       "    </tr>\n",
       "  </thead>\n",
       "  <tbody>\n",
       "    <tr>\n",
       "      <th>00015b2ca0bc82750b4e306899d5ff2ea4d304a3795e3aecce84c333</th>\n",
       "      <td>1</td>\n",
       "      <td>-0.502503</td>\n",
       "      <td>0.029326</td>\n",
       "      <td>-1.096764</td>\n",
       "      <td>0.012418</td>\n",
       "    </tr>\n",
       "    <tr>\n",
       "      <th>0002890fbe79c2a9fef6436f3e4b09f919386bb34b27a0d69544b569</th>\n",
       "      <td>1</td>\n",
       "      <td>-0.352022</td>\n",
       "      <td>0.230401</td>\n",
       "      <td>-0.068065</td>\n",
       "      <td>1.960281</td>\n",
       "    </tr>\n",
       "    <tr>\n",
       "      <th>0003549f24d6fb2695f73e63708dd9c3e4cfd362f956db0a04ad8cac</th>\n",
       "      <td>2</td>\n",
       "      <td>-0.464883</td>\n",
       "      <td>-0.573900</td>\n",
       "      <td>0.333043</td>\n",
       "      <td>-0.093595</td>\n",
       "    </tr>\n",
       "    <tr>\n",
       "      <th>00037e40777e886343763c750f8a95e338be0cb970e80f5f52b1ea54</th>\n",
       "      <td>2</td>\n",
       "      <td>0.362763</td>\n",
       "      <td>-0.372825</td>\n",
       "      <td>-0.064375</td>\n",
       "      <td>-0.337229</td>\n",
       "    </tr>\n",
       "    <tr>\n",
       "      <th>000502d1f19fb52fe9f7b72911cc009a0ea17569ad83034ac47820d4</th>\n",
       "      <td>2</td>\n",
       "      <td>-0.239161</td>\n",
       "      <td>0.029326</td>\n",
       "      <td>-0.028070</td>\n",
       "      <td>-0.518261</td>\n",
       "    </tr>\n",
       "  </tbody>\n",
       "</table>\n",
       "</div>"
      ],
      "text/plain": [
       "                                                    gender  click/day  \\\n",
       "client_id                                                               \n",
       "00015b2ca0bc82750b4e306899d5ff2ea4d304a3795e3ae...       1  -0.502503   \n",
       "0002890fbe79c2a9fef6436f3e4b09f919386bb34b27a0d...       1  -0.352022   \n",
       "0003549f24d6fb2695f73e63708dd9c3e4cfd362f956db0...       2  -0.464883   \n",
       "00037e40777e886343763c750f8a95e338be0cb970e80f5...       2   0.362763   \n",
       "000502d1f19fb52fe9f7b72911cc009a0ea17569ad83034...       2  -0.239161   \n",
       "\n",
       "                                                    no_sessions/day  \\\n",
       "client_id                                                             \n",
       "00015b2ca0bc82750b4e306899d5ff2ea4d304a3795e3ae...         0.029326   \n",
       "0002890fbe79c2a9fef6436f3e4b09f919386bb34b27a0d...         0.230401   \n",
       "0003549f24d6fb2695f73e63708dd9c3e4cfd362f956db0...        -0.573900   \n",
       "00037e40777e886343763c750f8a95e338be0cb970e80f5...        -0.372825   \n",
       "000502d1f19fb52fe9f7b72911cc009a0ea17569ad83034...         0.029326   \n",
       "\n",
       "                                                    avg_time_page [min]  \\\n",
       "client_id                                                                 \n",
       "00015b2ca0bc82750b4e306899d5ff2ea4d304a3795e3ae...            -1.096764   \n",
       "0002890fbe79c2a9fef6436f3e4b09f919386bb34b27a0d...            -0.068065   \n",
       "0003549f24d6fb2695f73e63708dd9c3e4cfd362f956db0...             0.333043   \n",
       "00037e40777e886343763c750f8a95e338be0cb970e80f5...            -0.064375   \n",
       "000502d1f19fb52fe9f7b72911cc009a0ea17569ad83034...            -0.028070   \n",
       "\n",
       "                                                    page_frac_male  \n",
       "client_id                                                           \n",
       "00015b2ca0bc82750b4e306899d5ff2ea4d304a3795e3ae...        0.012418  \n",
       "0002890fbe79c2a9fef6436f3e4b09f919386bb34b27a0d...        1.960281  \n",
       "0003549f24d6fb2695f73e63708dd9c3e4cfd362f956db0...       -0.093595  \n",
       "00037e40777e886343763c750f8a95e338be0cb970e80f5...       -0.337229  \n",
       "000502d1f19fb52fe9f7b72911cc009a0ea17569ad83034...       -0.518261  "
      ]
     },
     "execution_count": 25,
     "metadata": {},
     "output_type": "execute_result"
    }
   ],
   "source": [
    "train_data_merged.head()"
   ]
  },
  {
   "cell_type": "code",
   "execution_count": 26,
   "metadata": {
    "collapsed": false
   },
   "outputs": [
    {
     "data": {
      "text/html": [
       "<div>\n",
       "<style scoped>\n",
       "    .dataframe tbody tr th:only-of-type {\n",
       "        vertical-align: middle;\n",
       "    }\n",
       "\n",
       "    .dataframe tbody tr th {\n",
       "        vertical-align: top;\n",
       "    }\n",
       "\n",
       "    .dataframe thead th {\n",
       "        text-align: right;\n",
       "    }\n",
       "</style>\n",
       "<table border=\"1\" class=\"dataframe\">\n",
       "  <thead>\n",
       "    <tr style=\"text-align: right;\">\n",
       "      <th></th>\n",
       "      <th>gender</th>\n",
       "      <th>click/day</th>\n",
       "      <th>no_sessions/day</th>\n",
       "      <th>avg_time_page [min]</th>\n",
       "      <th>page_frac_male</th>\n",
       "    </tr>\n",
       "  </thead>\n",
       "  <tbody>\n",
       "    <tr>\n",
       "      <th>count</th>\n",
       "      <td>94594.000000</td>\n",
       "      <td>9.459400e+04</td>\n",
       "      <td>9.459400e+04</td>\n",
       "      <td>8.425200e+04</td>\n",
       "      <td>9.459400e+04</td>\n",
       "    </tr>\n",
       "    <tr>\n",
       "      <th>mean</th>\n",
       "      <td>1.693490</td>\n",
       "      <td>3.246216e-13</td>\n",
       "      <td>5.037990e-13</td>\n",
       "      <td>5.092496e-15</td>\n",
       "      <td>1.525036e-15</td>\n",
       "    </tr>\n",
       "    <tr>\n",
       "      <th>std</th>\n",
       "      <td>0.461046</td>\n",
       "      <td>1.000000e+00</td>\n",
       "      <td>1.000000e+00</td>\n",
       "      <td>1.000000e+00</td>\n",
       "      <td>1.000000e+00</td>\n",
       "    </tr>\n",
       "    <tr>\n",
       "      <th>min</th>\n",
       "      <td>1.000000</td>\n",
       "      <td>-5.777437e-01</td>\n",
       "      <td>-5.738999e-01</td>\n",
       "      <td>-1.154926e+00</td>\n",
       "      <td>-2.304013e+00</td>\n",
       "    </tr>\n",
       "    <tr>\n",
       "      <th>25%</th>\n",
       "      <td>1.000000</td>\n",
       "      <td>-5.025032e-01</td>\n",
       "      <td>-5.738999e-01</td>\n",
       "      <td>-5.748067e-01</td>\n",
       "      <td>-4.875858e-01</td>\n",
       "    </tr>\n",
       "    <tr>\n",
       "      <th>50%</th>\n",
       "      <td>2.000000</td>\n",
       "      <td>-3.144018e-01</td>\n",
       "      <td>-3.728247e-01</td>\n",
       "      <td>-2.079373e-01</td>\n",
       "      <td>-1.846268e-01</td>\n",
       "    </tr>\n",
       "    <tr>\n",
       "      <th>75%</th>\n",
       "      <td>2.000000</td>\n",
       "      <td>9.942127e-02</td>\n",
       "      <td>2.932568e-02</td>\n",
       "      <td>2.764829e-01</td>\n",
       "      <td>2.495098e-01</td>\n",
       "    </tr>\n",
       "    <tr>\n",
       "      <th>max</th>\n",
       "      <td>2.000000</td>\n",
       "      <td>7.061863e+01</td>\n",
       "      <td>2.717448e+01</td>\n",
       "      <td>1.951798e+01</td>\n",
       "      <td>5.476722e+00</td>\n",
       "    </tr>\n",
       "  </tbody>\n",
       "</table>\n",
       "</div>"
      ],
      "text/plain": [
       "             gender     click/day  no_sessions/day  avg_time_page [min]  \\\n",
       "count  94594.000000  9.459400e+04     9.459400e+04         8.425200e+04   \n",
       "mean       1.693490  3.246216e-13     5.037990e-13         5.092496e-15   \n",
       "std        0.461046  1.000000e+00     1.000000e+00         1.000000e+00   \n",
       "min        1.000000 -5.777437e-01    -5.738999e-01        -1.154926e+00   \n",
       "25%        1.000000 -5.025032e-01    -5.738999e-01        -5.748067e-01   \n",
       "50%        2.000000 -3.144018e-01    -3.728247e-01        -2.079373e-01   \n",
       "75%        2.000000  9.942127e-02     2.932568e-02         2.764829e-01   \n",
       "max        2.000000  7.061863e+01     2.717448e+01         1.951798e+01   \n",
       "\n",
       "       page_frac_male  \n",
       "count    9.459400e+04  \n",
       "mean     1.525036e-15  \n",
       "std      1.000000e+00  \n",
       "min     -2.304013e+00  \n",
       "25%     -4.875858e-01  \n",
       "50%     -1.846268e-01  \n",
       "75%      2.495098e-01  \n",
       "max      5.476722e+00  "
      ]
     },
     "execution_count": 26,
     "metadata": {},
     "output_type": "execute_result"
    }
   ],
   "source": [
    "train_data_merged.describe()"
   ]
  },
  {
   "cell_type": "code",
   "execution_count": 27,
   "metadata": {
    "collapsed": false
   },
   "outputs": [
    {
     "data": {
      "text/plain": [
       "0.047700629910847371"
      ]
     },
     "execution_count": 27,
     "metadata": {},
     "output_type": "execute_result"
    }
   ],
   "source": [
    "train_data_merged['click/day'].corr(train_data_merged['avg_time_page [min]'])"
   ]
  },
  {
   "cell_type": "code",
   "execution_count": 28,
   "metadata": {
    "collapsed": false
   },
   "outputs": [
    {
     "data": {
      "text/plain": [
       "array([[<matplotlib.axes._subplots.AxesSubplot object at 0x1167aaba8>,\n",
       "        <matplotlib.axes._subplots.AxesSubplot object at 0x1164e6908>,\n",
       "        <matplotlib.axes._subplots.AxesSubplot object at 0x1169fa390>,\n",
       "        <matplotlib.axes._subplots.AxesSubplot object at 0x116a513c8>],\n",
       "       [<matplotlib.axes._subplots.AxesSubplot object at 0x116ab4ef0>,\n",
       "        <matplotlib.axes._subplots.AxesSubplot object at 0x116ab4f28>,\n",
       "        <matplotlib.axes._subplots.AxesSubplot object at 0x11772da90>,\n",
       "        <matplotlib.axes._subplots.AxesSubplot object at 0x11798de10>],\n",
       "       [<matplotlib.axes._subplots.AxesSubplot object at 0x118bb0550>,\n",
       "        <matplotlib.axes._subplots.AxesSubplot object at 0x118c1b0b8>,\n",
       "        <matplotlib.axes._subplots.AxesSubplot object at 0x118df0e10>,\n",
       "        <matplotlib.axes._subplots.AxesSubplot object at 0x119165898>],\n",
       "       [<matplotlib.axes._subplots.AxesSubplot object at 0x1191b96d8>,\n",
       "        <matplotlib.axes._subplots.AxesSubplot object at 0x11921ce48>,\n",
       "        <matplotlib.axes._subplots.AxesSubplot object at 0x11927b198>,\n",
       "        <matplotlib.axes._subplots.AxesSubplot object at 0x1192e09e8>]], dtype=object)"
      ]
     },
     "execution_count": 28,
     "metadata": {},
     "output_type": "execute_result"
    },
    {
     "data": {
      "image/png": "[encoded data removed]",
      "text/plain": [
       "<matplotlib.figure.Figure at 0x11672c5f8>"
      ]
     },
     "metadata": {},
     "output_type": "display_data"
    }
   ],
   "source": [
    "col_map={1: \"blue\", 2: \"red\"}\n",
    "cols=list(map(lambda x:col_map.get(x),train_data_merged.gender))\n",
    "pd.plotting.scatter_matrix(train_data_merged[features], \n",
    "               figsize=(15, 15), marker='o', c=cols)"
   ]
  },
  {
   "cell_type": "markdown",
   "metadata": {},
   "source": [
    "## 5. Model Training and Prediction\n",
    "This problem is a supervised classification problem, as we want to predict either gender male or female and we are training our model with a given dataset. \n",
    "Gender is unbalanced (ca. 70% female, 30% male) so we need to balance the training examples when training."
   ]
  },
  {
   "cell_type": "code",
   "execution_count": 29,
   "metadata": {
    "collapsed": false
   },
   "outputs": [],
   "source": [
    "# Identifying X and Y in the training dataset: as my model predicts the user gender, my Y will be the gender column\n",
    "X_train = train_data_merged[features]\n",
    "y_train = train_data_merged['gender']"
   ]
  },
  {
   "cell_type": "code",
   "execution_count": 30,
   "metadata": {
    "collapsed": false
   },
   "outputs": [
    {
     "data": {
      "text/html": [
       "<div>\n",
       "<style scoped>\n",
       "    .dataframe tbody tr th:only-of-type {\n",
       "        vertical-align: middle;\n",
       "    }\n",
       "\n",
       "    .dataframe tbody tr th {\n",
       "        vertical-align: top;\n",
       "    }\n",
       "\n",
       "    .dataframe thead th {\n",
       "        text-align: right;\n",
       "    }\n",
       "</style>\n",
       "<table border=\"1\" class=\"dataframe\">\n",
       "  <thead>\n",
       "    <tr style=\"text-align: right;\">\n",
       "      <th></th>\n",
       "      <th>click/day</th>\n",
       "      <th>no_sessions/day</th>\n",
       "      <th>avg_time_page [min]</th>\n",
       "      <th>page_frac_male</th>\n",
       "    </tr>\n",
       "    <tr>\n",
       "      <th>client_id</th>\n",
       "      <th></th>\n",
       "      <th></th>\n",
       "      <th></th>\n",
       "      <th></th>\n",
       "    </tr>\n",
       "  </thead>\n",
       "  <tbody>\n",
       "    <tr>\n",
       "      <th>001ff79cb3429cfdd4ea42f81f394f90838f560aa4b615dfff72f760</th>\n",
       "      <td>-0.540123</td>\n",
       "      <td>-0.171750</td>\n",
       "      <td>NaN</td>\n",
       "      <td>0.261405</td>\n",
       "    </tr>\n",
       "    <tr>\n",
       "      <th>002bf91855b9376496734c1d212627f42fcbea982ac5a706140a2e67</th>\n",
       "      <td>-0.577744</td>\n",
       "      <td>-0.573900</td>\n",
       "      <td>NaN</td>\n",
       "      <td>-0.747866</td>\n",
       "    </tr>\n",
       "    <tr>\n",
       "      <th>002d04da7634441a40c99a4aaf1c261e172c272b4fbe0d6ce7f968ca</th>\n",
       "      <td>-0.577744</td>\n",
       "      <td>-0.573900</td>\n",
       "      <td>NaN</td>\n",
       "      <td>1.213305</td>\n",
       "    </tr>\n",
       "    <tr>\n",
       "      <th>002ee253fa9e375661665d632e7f28fcd198459654e5cdebe0478105</th>\n",
       "      <td>-0.577744</td>\n",
       "      <td>-0.573900</td>\n",
       "      <td>NaN</td>\n",
       "      <td>0.930584</td>\n",
       "    </tr>\n",
       "    <tr>\n",
       "      <th>00304bc02571ae3bb11a46cc9023e20817409fb4cbde7d86e5b6d773</th>\n",
       "      <td>-0.577744</td>\n",
       "      <td>-0.573900</td>\n",
       "      <td>NaN</td>\n",
       "      <td>-0.181995</td>\n",
       "    </tr>\n",
       "    <tr>\n",
       "      <th>00310fc7fe6bf9d5ed87950da9416aa7e6e093ca01c84e9959284ccc</th>\n",
       "      <td>-0.577744</td>\n",
       "      <td>-0.573900</td>\n",
       "      <td>NaN</td>\n",
       "      <td>1.798556</td>\n",
       "    </tr>\n",
       "    <tr>\n",
       "      <th>0038a503d92eabf7bc06bcf29e5cf280b84499a70defd42e7fe2bc1c</th>\n",
       "      <td>-0.558934</td>\n",
       "      <td>-0.372825</td>\n",
       "      <td>NaN</td>\n",
       "      <td>-0.653554</td>\n",
       "    </tr>\n",
       "    <tr>\n",
       "      <th>003fab495332266f94060f4a8ccb9cd1b7b6e1872119550092733bad</th>\n",
       "      <td>-0.577744</td>\n",
       "      <td>-0.573900</td>\n",
       "      <td>NaN</td>\n",
       "      <td>-0.334998</td>\n",
       "    </tr>\n",
       "    <tr>\n",
       "      <th>005af7e1ffa0ece559abeef33ed4856f484235e0a402b5540b475ffb</th>\n",
       "      <td>-0.577744</td>\n",
       "      <td>-0.573900</td>\n",
       "      <td>NaN</td>\n",
       "      <td>0.179762</td>\n",
       "    </tr>\n",
       "    <tr>\n",
       "      <th>005e85d81c51e2296345173f12360d98400b7fcae1971cbd89c67886</th>\n",
       "      <td>-0.558934</td>\n",
       "      <td>-0.372825</td>\n",
       "      <td>NaN</td>\n",
       "      <td>-0.706184</td>\n",
       "    </tr>\n",
       "    <tr>\n",
       "      <th>005f7a10eb3a998b33e275c4904faa97c008d1ff834b582caa4cdc05</th>\n",
       "      <td>-0.577744</td>\n",
       "      <td>-0.573900</td>\n",
       "      <td>NaN</td>\n",
       "      <td>3.636118</td>\n",
       "    </tr>\n",
       "    <tr>\n",
       "      <th>0060004a53ab9ff62e554cf566a6b8e4289775f2ef87034d6b64aafd</th>\n",
       "      <td>-0.577744</td>\n",
       "      <td>-0.573900</td>\n",
       "      <td>NaN</td>\n",
       "      <td>1.150730</td>\n",
       "    </tr>\n",
       "    <tr>\n",
       "      <th>0061fa9e2554994de5796d3dd49c20981f1f26804072bbdcf4d60d9d</th>\n",
       "      <td>-0.577744</td>\n",
       "      <td>-0.573900</td>\n",
       "      <td>NaN</td>\n",
       "      <td>-0.614080</td>\n",
       "    </tr>\n",
       "    <tr>\n",
       "      <th>0066fba7fa0223299efa62b50910b2d7987229cc9e782d8ff2761d34</th>\n",
       "      <td>-0.577744</td>\n",
       "      <td>-0.573900</td>\n",
       "      <td>NaN</td>\n",
       "      <td>0.320560</td>\n",
       "    </tr>\n",
       "    <tr>\n",
       "      <th>006b924cf3abd8b5551a11f85eb3c7f5c55c40ef22e2f71ee6ea4d3e</th>\n",
       "      <td>-0.558934</td>\n",
       "      <td>-0.372825</td>\n",
       "      <td>NaN</td>\n",
       "      <td>-1.284431</td>\n",
       "    </tr>\n",
       "    <tr>\n",
       "      <th>006ca4e1d76dc811e645554c68360dd5750b7a70e1e3373cb2708318</th>\n",
       "      <td>-0.558934</td>\n",
       "      <td>-0.372825</td>\n",
       "      <td>NaN</td>\n",
       "      <td>-0.358830</td>\n",
       "    </tr>\n",
       "    <tr>\n",
       "      <th>006d5157df59e6bc88d12b66b2057aa1b0798a697ee99584bd2aacdb</th>\n",
       "      <td>-0.577744</td>\n",
       "      <td>-0.573900</td>\n",
       "      <td>NaN</td>\n",
       "      <td>-0.725516</td>\n",
       "    </tr>\n",
       "    <tr>\n",
       "      <th>006de105ac37c021eebef4d9bd763c621298cc88d7d91865e94792df</th>\n",
       "      <td>-0.577744</td>\n",
       "      <td>-0.573900</td>\n",
       "      <td>NaN</td>\n",
       "      <td>-1.111965</td>\n",
       "    </tr>\n",
       "    <tr>\n",
       "      <th>006e95c7d7aa323b18f030eaf7fb31059640c1042b65f320d4c4867b</th>\n",
       "      <td>-0.577744</td>\n",
       "      <td>-0.573900</td>\n",
       "      <td>NaN</td>\n",
       "      <td>-2.130723</td>\n",
       "    </tr>\n",
       "    <tr>\n",
       "      <th>00710a3a7950a23bfab9e9f227bae85af9553ca81c53ff8668854a84</th>\n",
       "      <td>-0.577744</td>\n",
       "      <td>-0.573900</td>\n",
       "      <td>NaN</td>\n",
       "      <td>-2.304013</td>\n",
       "    </tr>\n",
       "    <tr>\n",
       "      <th>0071523d32f55a004e29d50112dda381aac267af3d0ed114be57b557</th>\n",
       "      <td>-0.577744</td>\n",
       "      <td>-0.573900</td>\n",
       "      <td>NaN</td>\n",
       "      <td>2.801405</td>\n",
       "    </tr>\n",
       "    <tr>\n",
       "      <th>007921bc749cd4b91b59d7c0c0d3ed8cb51174b8332784c3742f70c3</th>\n",
       "      <td>-0.577744</td>\n",
       "      <td>-0.573900</td>\n",
       "      <td>NaN</td>\n",
       "      <td>-0.736307</td>\n",
       "    </tr>\n",
       "    <tr>\n",
       "      <th>0080e0ca61ae1a56ad232514c2b66afbb243c37920faf5bda93da69b</th>\n",
       "      <td>-0.577744</td>\n",
       "      <td>-0.573900</td>\n",
       "      <td>NaN</td>\n",
       "      <td>0.639490</td>\n",
       "    </tr>\n",
       "    <tr>\n",
       "      <th>00819e9628908f89cf77504b76cd6b20005a3e09eb47b5abb7ff3f51</th>\n",
       "      <td>-0.577744</td>\n",
       "      <td>-0.573900</td>\n",
       "      <td>NaN</td>\n",
       "      <td>-0.031277</td>\n",
       "    </tr>\n",
       "    <tr>\n",
       "      <th>00941daf012c142952823fe4ad111b264557e7e8f4dcee9e7d16120f</th>\n",
       "      <td>-0.577744</td>\n",
       "      <td>-0.573900</td>\n",
       "      <td>NaN</td>\n",
       "      <td>-0.217362</td>\n",
       "    </tr>\n",
       "    <tr>\n",
       "      <th>009db091c0ca9f510021f2138c2ecc2c1da8f63e8243ac0e617ff773</th>\n",
       "      <td>-0.577744</td>\n",
       "      <td>-0.573900</td>\n",
       "      <td>NaN</td>\n",
       "      <td>-0.766319</td>\n",
       "    </tr>\n",
       "    <tr>\n",
       "      <th>00a6400d067e6db0d88e8b881abcc403ad5eb37567d8ca9cfabfaf19</th>\n",
       "      <td>-0.577744</td>\n",
       "      <td>-0.573900</td>\n",
       "      <td>NaN</td>\n",
       "      <td>0.320560</td>\n",
       "    </tr>\n",
       "    <tr>\n",
       "      <th>00a9c795820cea626313b5994e09f0b14b2de57583e4e73cd5242a30</th>\n",
       "      <td>-0.577744</td>\n",
       "      <td>-0.573900</td>\n",
       "      <td>NaN</td>\n",
       "      <td>-0.041351</td>\n",
       "    </tr>\n",
       "    <tr>\n",
       "      <th>00acda36d26d760af23b76f69f381df63171b9d3fbb05801eeb0a775</th>\n",
       "      <td>-0.577744</td>\n",
       "      <td>-0.573900</td>\n",
       "      <td>NaN</td>\n",
       "      <td>-0.766503</td>\n",
       "    </tr>\n",
       "    <tr>\n",
       "      <th>00bc25d94ecca82d7edff8e8e42fc798f24efa8b9435caf595c7572c</th>\n",
       "      <td>-0.577744</td>\n",
       "      <td>-0.573900</td>\n",
       "      <td>NaN</td>\n",
       "      <td>-0.370285</td>\n",
       "    </tr>\n",
       "    <tr>\n",
       "      <th>...</th>\n",
       "      <td>...</td>\n",
       "      <td>...</td>\n",
       "      <td>...</td>\n",
       "      <td>...</td>\n",
       "    </tr>\n",
       "    <tr>\n",
       "      <th>ff22bb6d55f41ee8113d4de6bd348fd845628bb3c74e34ecabe38236</th>\n",
       "      <td>-0.577744</td>\n",
       "      <td>-0.573900</td>\n",
       "      <td>NaN</td>\n",
       "      <td>2.802094</td>\n",
       "    </tr>\n",
       "    <tr>\n",
       "      <th>ff22f7efb8062d415388041138fba6b1db9daf7ebc6e0b94ce4ed318</th>\n",
       "      <td>-0.577744</td>\n",
       "      <td>-0.573900</td>\n",
       "      <td>NaN</td>\n",
       "      <td>-1.499803</td>\n",
       "    </tr>\n",
       "    <tr>\n",
       "      <th>ff2f6996db3ac38c5ccda6b1ac02e3167daec5d64edb2ad523087c04</th>\n",
       "      <td>-0.577744</td>\n",
       "      <td>-0.573900</td>\n",
       "      <td>NaN</td>\n",
       "      <td>-0.717892</td>\n",
       "    </tr>\n",
       "    <tr>\n",
       "      <th>ff31400cc83f401cfcd3e22e826a983f1c8715a965b5f9c9b53db585</th>\n",
       "      <td>-0.577744</td>\n",
       "      <td>-0.573900</td>\n",
       "      <td>NaN</td>\n",
       "      <td>0.473362</td>\n",
       "    </tr>\n",
       "    <tr>\n",
       "      <th>ff315966557c38c4322aa5833a17bf12ddb1470e73069362aea8a0fb</th>\n",
       "      <td>-0.577744</td>\n",
       "      <td>-0.573900</td>\n",
       "      <td>NaN</td>\n",
       "      <td>0.261710</td>\n",
       "    </tr>\n",
       "    <tr>\n",
       "      <th>ff35f5fc4ef7f95c1001359d1565726f0786938813e16a88e09e4730</th>\n",
       "      <td>-0.577744</td>\n",
       "      <td>-0.573900</td>\n",
       "      <td>NaN</td>\n",
       "      <td>0.289565</td>\n",
       "    </tr>\n",
       "    <tr>\n",
       "      <th>ff38a87aa8a45729316bb1829043b3b5779a422441ea32ae1b6e7a94</th>\n",
       "      <td>-0.577744</td>\n",
       "      <td>-0.573900</td>\n",
       "      <td>NaN</td>\n",
       "      <td>-0.636713</td>\n",
       "    </tr>\n",
       "    <tr>\n",
       "      <th>ff3ec237d771aa84366de96db96f4b1ae4ddc62af19b25881887fc76</th>\n",
       "      <td>-0.558934</td>\n",
       "      <td>-0.372825</td>\n",
       "      <td>NaN</td>\n",
       "      <td>0.661345</td>\n",
       "    </tr>\n",
       "    <tr>\n",
       "      <th>ff3f14e5577043630d88d44eb6e5dbb2aa6a4799dd12c5f6d42ca2be</th>\n",
       "      <td>-0.577744</td>\n",
       "      <td>-0.573900</td>\n",
       "      <td>NaN</td>\n",
       "      <td>-0.604861</td>\n",
       "    </tr>\n",
       "    <tr>\n",
       "      <th>ff46df0768461c68d124ff71748c68f8bf6f4b524ac8e91fcdf7daa5</th>\n",
       "      <td>-0.558934</td>\n",
       "      <td>-0.372825</td>\n",
       "      <td>NaN</td>\n",
       "      <td>2.287308</td>\n",
       "    </tr>\n",
       "    <tr>\n",
       "      <th>ff483027d039a97e3704f87e90cf5cf7d85ce7b6a0b6043e824e3661</th>\n",
       "      <td>-0.558934</td>\n",
       "      <td>-0.372825</td>\n",
       "      <td>NaN</td>\n",
       "      <td>-0.334998</td>\n",
       "    </tr>\n",
       "    <tr>\n",
       "      <th>ff4cb67ce9833805dfde1f72aaa32bea21208610e88572861e0b4593</th>\n",
       "      <td>-0.577744</td>\n",
       "      <td>-0.573900</td>\n",
       "      <td>NaN</td>\n",
       "      <td>-0.219888</td>\n",
       "    </tr>\n",
       "    <tr>\n",
       "      <th>ff4e189a206b9bea54b5bb71e3c6cb536cc15bd1de5320f77e9eb858</th>\n",
       "      <td>-0.558934</td>\n",
       "      <td>-0.372825</td>\n",
       "      <td>NaN</td>\n",
       "      <td>4.881117</td>\n",
       "    </tr>\n",
       "    <tr>\n",
       "      <th>ff65c46f44cf5f5816bd3da3f411baf44bf11c219f44e753675d6445</th>\n",
       "      <td>-0.577744</td>\n",
       "      <td>-0.573900</td>\n",
       "      <td>NaN</td>\n",
       "      <td>3.905612</td>\n",
       "    </tr>\n",
       "    <tr>\n",
       "      <th>ff6f36d64e689512a14811e774b4d7f325af80948f8299acb1b434bb</th>\n",
       "      <td>-0.577744</td>\n",
       "      <td>-0.573900</td>\n",
       "      <td>NaN</td>\n",
       "      <td>0.139564</td>\n",
       "    </tr>\n",
       "    <tr>\n",
       "      <th>ff821eab5f3bbed5eca98db7c37137939a9a370df8fb9d524ebcd0b8</th>\n",
       "      <td>-0.577744</td>\n",
       "      <td>-0.573900</td>\n",
       "      <td>NaN</td>\n",
       "      <td>-0.534997</td>\n",
       "    </tr>\n",
       "    <tr>\n",
       "      <th>ff824ba62d220043b12d2b56fa701b824574b9e29f2b421d11226a15</th>\n",
       "      <td>-0.577744</td>\n",
       "      <td>-0.573900</td>\n",
       "      <td>NaN</td>\n",
       "      <td>-1.828127</td>\n",
       "    </tr>\n",
       "    <tr>\n",
       "      <th>ff8d84312615f8aa92c084bfeff85b78394357df3505bd22749f6e47</th>\n",
       "      <td>-0.577744</td>\n",
       "      <td>-0.573900</td>\n",
       "      <td>NaN</td>\n",
       "      <td>-1.930111</td>\n",
       "    </tr>\n",
       "    <tr>\n",
       "      <th>ffa4b8808e21104ce4c16862e25ffec81f0e11f8921cb6c5e0a49d22</th>\n",
       "      <td>-0.577744</td>\n",
       "      <td>-0.573900</td>\n",
       "      <td>NaN</td>\n",
       "      <td>2.697888</td>\n",
       "    </tr>\n",
       "    <tr>\n",
       "      <th>ffa961a14655268c075b51be542ec2b7c44a34c9375faca9e53d0776</th>\n",
       "      <td>-0.577744</td>\n",
       "      <td>-0.573900</td>\n",
       "      <td>NaN</td>\n",
       "      <td>-0.334998</td>\n",
       "    </tr>\n",
       "    <tr>\n",
       "      <th>ffad69987ad158ada2fad3a9c227c5eca4742964748f49eb8ebc7cc3</th>\n",
       "      <td>-0.577744</td>\n",
       "      <td>-0.573900</td>\n",
       "      <td>NaN</td>\n",
       "      <td>0.179762</td>\n",
       "    </tr>\n",
       "    <tr>\n",
       "      <th>ffaed24338cdc9e498256b592afcb533d5061fc64b0c61910ac25008</th>\n",
       "      <td>-0.577744</td>\n",
       "      <td>-0.573900</td>\n",
       "      <td>NaN</td>\n",
       "      <td>0.320078</td>\n",
       "    </tr>\n",
       "    <tr>\n",
       "      <th>ffbaa376059cabe1147a391caaf0530ea8112408ce276157523af081</th>\n",
       "      <td>-0.540123</td>\n",
       "      <td>-0.171750</td>\n",
       "      <td>NaN</td>\n",
       "      <td>-0.156319</td>\n",
       "    </tr>\n",
       "    <tr>\n",
       "      <th>ffc32ec1ca312b449a89281d9d83609782c942ed681860c182b16de7</th>\n",
       "      <td>-0.577744</td>\n",
       "      <td>-0.573900</td>\n",
       "      <td>NaN</td>\n",
       "      <td>-0.747866</td>\n",
       "    </tr>\n",
       "    <tr>\n",
       "      <th>ffdfbc9488f6b9ba68174b1a7641c13e10dbb1394fc3e4041ca79af3</th>\n",
       "      <td>-0.558934</td>\n",
       "      <td>-0.372825</td>\n",
       "      <td>NaN</td>\n",
       "      <td>-0.675297</td>\n",
       "    </tr>\n",
       "    <tr>\n",
       "      <th>ffe00cd735491064948cf2beb86953cceae1dac72541d4fd068576ee</th>\n",
       "      <td>-0.577744</td>\n",
       "      <td>-0.573900</td>\n",
       "      <td>NaN</td>\n",
       "      <td>-0.587675</td>\n",
       "    </tr>\n",
       "    <tr>\n",
       "      <th>ffe05128eb93e5210805737bb58f6478022af7842b53257dceb837d6</th>\n",
       "      <td>-0.577744</td>\n",
       "      <td>-0.573900</td>\n",
       "      <td>NaN</td>\n",
       "      <td>-1.562991</td>\n",
       "    </tr>\n",
       "    <tr>\n",
       "      <th>ffec8fcce35e86ccfb31f7b4b1157f1eaed30e90b8176d0be67ff426</th>\n",
       "      <td>-0.577744</td>\n",
       "      <td>-0.573900</td>\n",
       "      <td>NaN</td>\n",
       "      <td>-1.713583</td>\n",
       "    </tr>\n",
       "    <tr>\n",
       "      <th>ffed8ce7ff305af377b5c3d06188dabb2f2f9b4ad11c6fb027f8ea2f</th>\n",
       "      <td>-0.577744</td>\n",
       "      <td>-0.573900</td>\n",
       "      <td>NaN</td>\n",
       "      <td>3.142501</td>\n",
       "    </tr>\n",
       "    <tr>\n",
       "      <th>fff45ab76842d3004a05a81e28250b0b5836682984c975843ec850b1</th>\n",
       "      <td>-0.558934</td>\n",
       "      <td>-0.372825</td>\n",
       "      <td>NaN</td>\n",
       "      <td>-0.251951</td>\n",
       "    </tr>\n",
       "  </tbody>\n",
       "</table>\n",
       "<p>10342 rows × 4 columns</p>\n",
       "</div>"
      ],
      "text/plain": [
       "                                                    click/day  \\\n",
       "client_id                                                       \n",
       "001ff79cb3429cfdd4ea42f81f394f90838f560aa4b615d...  -0.540123   \n",
       "002bf91855b9376496734c1d212627f42fcbea982ac5a70...  -0.577744   \n",
       "002d04da7634441a40c99a4aaf1c261e172c272b4fbe0d6...  -0.577744   \n",
       "002ee253fa9e375661665d632e7f28fcd198459654e5cde...  -0.577744   \n",
       "00304bc02571ae3bb11a46cc9023e20817409fb4cbde7d8...  -0.577744   \n",
       "00310fc7fe6bf9d5ed87950da9416aa7e6e093ca01c84e9...  -0.577744   \n",
       "0038a503d92eabf7bc06bcf29e5cf280b84499a70defd42...  -0.558934   \n",
       "003fab495332266f94060f4a8ccb9cd1b7b6e1872119550...  -0.577744   \n",
       "005af7e1ffa0ece559abeef33ed4856f484235e0a402b55...  -0.577744   \n",
       "005e85d81c51e2296345173f12360d98400b7fcae1971cb...  -0.558934   \n",
       "005f7a10eb3a998b33e275c4904faa97c008d1ff834b582...  -0.577744   \n",
       "0060004a53ab9ff62e554cf566a6b8e4289775f2ef87034...  -0.577744   \n",
       "0061fa9e2554994de5796d3dd49c20981f1f26804072bbd...  -0.577744   \n",
       "0066fba7fa0223299efa62b50910b2d7987229cc9e782d8...  -0.577744   \n",
       "006b924cf3abd8b5551a11f85eb3c7f5c55c40ef22e2f71...  -0.558934   \n",
       "006ca4e1d76dc811e645554c68360dd5750b7a70e1e3373...  -0.558934   \n",
       "006d5157df59e6bc88d12b66b2057aa1b0798a697ee9958...  -0.577744   \n",
       "006de105ac37c021eebef4d9bd763c621298cc88d7d9186...  -0.577744   \n",
       "006e95c7d7aa323b18f030eaf7fb31059640c1042b65f32...  -0.577744   \n",
       "00710a3a7950a23bfab9e9f227bae85af9553ca81c53ff8...  -0.577744   \n",
       "0071523d32f55a004e29d50112dda381aac267af3d0ed11...  -0.577744   \n",
       "007921bc749cd4b91b59d7c0c0d3ed8cb51174b8332784c...  -0.577744   \n",
       "0080e0ca61ae1a56ad232514c2b66afbb243c37920faf5b...  -0.577744   \n",
       "00819e9628908f89cf77504b76cd6b20005a3e09eb47b5a...  -0.577744   \n",
       "00941daf012c142952823fe4ad111b264557e7e8f4dcee9...  -0.577744   \n",
       "009db091c0ca9f510021f2138c2ecc2c1da8f63e8243ac0...  -0.577744   \n",
       "00a6400d067e6db0d88e8b881abcc403ad5eb37567d8ca9...  -0.577744   \n",
       "00a9c795820cea626313b5994e09f0b14b2de57583e4e73...  -0.577744   \n",
       "00acda36d26d760af23b76f69f381df63171b9d3fbb0580...  -0.577744   \n",
       "00bc25d94ecca82d7edff8e8e42fc798f24efa8b9435caf...  -0.577744   \n",
       "...                                                       ...   \n",
       "ff22bb6d55f41ee8113d4de6bd348fd845628bb3c74e34e...  -0.577744   \n",
       "ff22f7efb8062d415388041138fba6b1db9daf7ebc6e0b9...  -0.577744   \n",
       "ff2f6996db3ac38c5ccda6b1ac02e3167daec5d64edb2ad...  -0.577744   \n",
       "ff31400cc83f401cfcd3e22e826a983f1c8715a965b5f9c...  -0.577744   \n",
       "ff315966557c38c4322aa5833a17bf12ddb1470e7306936...  -0.577744   \n",
       "ff35f5fc4ef7f95c1001359d1565726f0786938813e16a8...  -0.577744   \n",
       "ff38a87aa8a45729316bb1829043b3b5779a422441ea32a...  -0.577744   \n",
       "ff3ec237d771aa84366de96db96f4b1ae4ddc62af19b258...  -0.558934   \n",
       "ff3f14e5577043630d88d44eb6e5dbb2aa6a4799dd12c5f...  -0.577744   \n",
       "ff46df0768461c68d124ff71748c68f8bf6f4b524ac8e91...  -0.558934   \n",
       "ff483027d039a97e3704f87e90cf5cf7d85ce7b6a0b6043...  -0.558934   \n",
       "ff4cb67ce9833805dfde1f72aaa32bea21208610e885728...  -0.577744   \n",
       "ff4e189a206b9bea54b5bb71e3c6cb536cc15bd1de5320f...  -0.558934   \n",
       "ff65c46f44cf5f5816bd3da3f411baf44bf11c219f44e75...  -0.577744   \n",
       "ff6f36d64e689512a14811e774b4d7f325af80948f8299a...  -0.577744   \n",
       "ff821eab5f3bbed5eca98db7c37137939a9a370df8fb9d5...  -0.577744   \n",
       "ff824ba62d220043b12d2b56fa701b824574b9e29f2b421...  -0.577744   \n",
       "ff8d84312615f8aa92c084bfeff85b78394357df3505bd2...  -0.577744   \n",
       "ffa4b8808e21104ce4c16862e25ffec81f0e11f8921cb6c...  -0.577744   \n",
       "ffa961a14655268c075b51be542ec2b7c44a34c9375faca...  -0.577744   \n",
       "ffad69987ad158ada2fad3a9c227c5eca4742964748f49e...  -0.577744   \n",
       "ffaed24338cdc9e498256b592afcb533d5061fc64b0c619...  -0.577744   \n",
       "ffbaa376059cabe1147a391caaf0530ea8112408ce27615...  -0.540123   \n",
       "ffc32ec1ca312b449a89281d9d83609782c942ed681860c...  -0.577744   \n",
       "ffdfbc9488f6b9ba68174b1a7641c13e10dbb1394fc3e40...  -0.558934   \n",
       "ffe00cd735491064948cf2beb86953cceae1dac72541d4f...  -0.577744   \n",
       "ffe05128eb93e5210805737bb58f6478022af7842b53257...  -0.577744   \n",
       "ffec8fcce35e86ccfb31f7b4b1157f1eaed30e90b8176d0...  -0.577744   \n",
       "ffed8ce7ff305af377b5c3d06188dabb2f2f9b4ad11c6fb...  -0.577744   \n",
       "fff45ab76842d3004a05a81e28250b0b5836682984c9758...  -0.558934   \n",
       "\n",
       "                                                    no_sessions/day  \\\n",
       "client_id                                                             \n",
       "001ff79cb3429cfdd4ea42f81f394f90838f560aa4b615d...        -0.171750   \n",
       "002bf91855b9376496734c1d212627f42fcbea982ac5a70...        -0.573900   \n",
       "002d04da7634441a40c99a4aaf1c261e172c272b4fbe0d6...        -0.573900   \n",
       "002ee253fa9e375661665d632e7f28fcd198459654e5cde...        -0.573900   \n",
       "00304bc02571ae3bb11a46cc9023e20817409fb4cbde7d8...        -0.573900   \n",
       "00310fc7fe6bf9d5ed87950da9416aa7e6e093ca01c84e9...        -0.573900   \n",
       "0038a503d92eabf7bc06bcf29e5cf280b84499a70defd42...        -0.372825   \n",
       "003fab495332266f94060f4a8ccb9cd1b7b6e1872119550...        -0.573900   \n",
       "005af7e1ffa0ece559abeef33ed4856f484235e0a402b55...        -0.573900   \n",
       "005e85d81c51e2296345173f12360d98400b7fcae1971cb...        -0.372825   \n",
       "005f7a10eb3a998b33e275c4904faa97c008d1ff834b582...        -0.573900   \n",
       "0060004a53ab9ff62e554cf566a6b8e4289775f2ef87034...        -0.573900   \n",
       "0061fa9e2554994de5796d3dd49c20981f1f26804072bbd...        -0.573900   \n",
       "0066fba7fa0223299efa62b50910b2d7987229cc9e782d8...        -0.573900   \n",
       "006b924cf3abd8b5551a11f85eb3c7f5c55c40ef22e2f71...        -0.372825   \n",
       "006ca4e1d76dc811e645554c68360dd5750b7a70e1e3373...        -0.372825   \n",
       "006d5157df59e6bc88d12b66b2057aa1b0798a697ee9958...        -0.573900   \n",
       "006de105ac37c021eebef4d9bd763c621298cc88d7d9186...        -0.573900   \n",
       "006e95c7d7aa323b18f030eaf7fb31059640c1042b65f32...        -0.573900   \n",
       "00710a3a7950a23bfab9e9f227bae85af9553ca81c53ff8...        -0.573900   \n",
       "0071523d32f55a004e29d50112dda381aac267af3d0ed11...        -0.573900   \n",
       "007921bc749cd4b91b59d7c0c0d3ed8cb51174b8332784c...        -0.573900   \n",
       "0080e0ca61ae1a56ad232514c2b66afbb243c37920faf5b...        -0.573900   \n",
       "00819e9628908f89cf77504b76cd6b20005a3e09eb47b5a...        -0.573900   \n",
       "00941daf012c142952823fe4ad111b264557e7e8f4dcee9...        -0.573900   \n",
       "009db091c0ca9f510021f2138c2ecc2c1da8f63e8243ac0...        -0.573900   \n",
       "00a6400d067e6db0d88e8b881abcc403ad5eb37567d8ca9...        -0.573900   \n",
       "00a9c795820cea626313b5994e09f0b14b2de57583e4e73...        -0.573900   \n",
       "00acda36d26d760af23b76f69f381df63171b9d3fbb0580...        -0.573900   \n",
       "00bc25d94ecca82d7edff8e8e42fc798f24efa8b9435caf...        -0.573900   \n",
       "...                                                             ...   \n",
       "ff22bb6d55f41ee8113d4de6bd348fd845628bb3c74e34e...        -0.573900   \n",
       "ff22f7efb8062d415388041138fba6b1db9daf7ebc6e0b9...        -0.573900   \n",
       "ff2f6996db3ac38c5ccda6b1ac02e3167daec5d64edb2ad...        -0.573900   \n",
       "ff31400cc83f401cfcd3e22e826a983f1c8715a965b5f9c...        -0.573900   \n",
       "ff315966557c38c4322aa5833a17bf12ddb1470e7306936...        -0.573900   \n",
       "ff35f5fc4ef7f95c1001359d1565726f0786938813e16a8...        -0.573900   \n",
       "ff38a87aa8a45729316bb1829043b3b5779a422441ea32a...        -0.573900   \n",
       "ff3ec237d771aa84366de96db96f4b1ae4ddc62af19b258...        -0.372825   \n",
       "ff3f14e5577043630d88d44eb6e5dbb2aa6a4799dd12c5f...        -0.573900   \n",
       "ff46df0768461c68d124ff71748c68f8bf6f4b524ac8e91...        -0.372825   \n",
       "ff483027d039a97e3704f87e90cf5cf7d85ce7b6a0b6043...        -0.372825   \n",
       "ff4cb67ce9833805dfde1f72aaa32bea21208610e885728...        -0.573900   \n",
       "ff4e189a206b9bea54b5bb71e3c6cb536cc15bd1de5320f...        -0.372825   \n",
       "ff65c46f44cf5f5816bd3da3f411baf44bf11c219f44e75...        -0.573900   \n",
       "ff6f36d64e689512a14811e774b4d7f325af80948f8299a...        -0.573900   \n",
       "ff821eab5f3bbed5eca98db7c37137939a9a370df8fb9d5...        -0.573900   \n",
       "ff824ba62d220043b12d2b56fa701b824574b9e29f2b421...        -0.573900   \n",
       "ff8d84312615f8aa92c084bfeff85b78394357df3505bd2...        -0.573900   \n",
       "ffa4b8808e21104ce4c16862e25ffec81f0e11f8921cb6c...        -0.573900   \n",
       "ffa961a14655268c075b51be542ec2b7c44a34c9375faca...        -0.573900   \n",
       "ffad69987ad158ada2fad3a9c227c5eca4742964748f49e...        -0.573900   \n",
       "ffaed24338cdc9e498256b592afcb533d5061fc64b0c619...        -0.573900   \n",
       "ffbaa376059cabe1147a391caaf0530ea8112408ce27615...        -0.171750   \n",
       "ffc32ec1ca312b449a89281d9d83609782c942ed681860c...        -0.573900   \n",
       "ffdfbc9488f6b9ba68174b1a7641c13e10dbb1394fc3e40...        -0.372825   \n",
       "ffe00cd735491064948cf2beb86953cceae1dac72541d4f...        -0.573900   \n",
       "ffe05128eb93e5210805737bb58f6478022af7842b53257...        -0.573900   \n",
       "ffec8fcce35e86ccfb31f7b4b1157f1eaed30e90b8176d0...        -0.573900   \n",
       "ffed8ce7ff305af377b5c3d06188dabb2f2f9b4ad11c6fb...        -0.573900   \n",
       "fff45ab76842d3004a05a81e28250b0b5836682984c9758...        -0.372825   \n",
       "\n",
       "                                                    avg_time_page [min]  \\\n",
       "client_id                                                                 \n",
       "001ff79cb3429cfdd4ea42f81f394f90838f560aa4b615d...                  NaN   \n",
       "002bf91855b9376496734c1d212627f42fcbea982ac5a70...                  NaN   \n",
       "002d04da7634441a40c99a4aaf1c261e172c272b4fbe0d6...                  NaN   \n",
       "002ee253fa9e375661665d632e7f28fcd198459654e5cde...                  NaN   \n",
       "00304bc02571ae3bb11a46cc9023e20817409fb4cbde7d8...                  NaN   \n",
       "00310fc7fe6bf9d5ed87950da9416aa7e6e093ca01c84e9...                  NaN   \n",
       "0038a503d92eabf7bc06bcf29e5cf280b84499a70defd42...                  NaN   \n",
       "003fab495332266f94060f4a8ccb9cd1b7b6e1872119550...                  NaN   \n",
       "005af7e1ffa0ece559abeef33ed4856f484235e0a402b55...                  NaN   \n",
       "005e85d81c51e2296345173f12360d98400b7fcae1971cb...                  NaN   \n",
       "005f7a10eb3a998b33e275c4904faa97c008d1ff834b582...                  NaN   \n",
       "0060004a53ab9ff62e554cf566a6b8e4289775f2ef87034...                  NaN   \n",
       "0061fa9e2554994de5796d3dd49c20981f1f26804072bbd...                  NaN   \n",
       "0066fba7fa0223299efa62b50910b2d7987229cc9e782d8...                  NaN   \n",
       "006b924cf3abd8b5551a11f85eb3c7f5c55c40ef22e2f71...                  NaN   \n",
       "006ca4e1d76dc811e645554c68360dd5750b7a70e1e3373...                  NaN   \n",
       "006d5157df59e6bc88d12b66b2057aa1b0798a697ee9958...                  NaN   \n",
       "006de105ac37c021eebef4d9bd763c621298cc88d7d9186...                  NaN   \n",
       "006e95c7d7aa323b18f030eaf7fb31059640c1042b65f32...                  NaN   \n",
       "00710a3a7950a23bfab9e9f227bae85af9553ca81c53ff8...                  NaN   \n",
       "0071523d32f55a004e29d50112dda381aac267af3d0ed11...                  NaN   \n",
       "007921bc749cd4b91b59d7c0c0d3ed8cb51174b8332784c...                  NaN   \n",
       "0080e0ca61ae1a56ad232514c2b66afbb243c37920faf5b...                  NaN   \n",
       "00819e9628908f89cf77504b76cd6b20005a3e09eb47b5a...                  NaN   \n",
       "00941daf012c142952823fe4ad111b264557e7e8f4dcee9...                  NaN   \n",
       "009db091c0ca9f510021f2138c2ecc2c1da8f63e8243ac0...                  NaN   \n",
       "00a6400d067e6db0d88e8b881abcc403ad5eb37567d8ca9...                  NaN   \n",
       "00a9c795820cea626313b5994e09f0b14b2de57583e4e73...                  NaN   \n",
       "00acda36d26d760af23b76f69f381df63171b9d3fbb0580...                  NaN   \n",
       "00bc25d94ecca82d7edff8e8e42fc798f24efa8b9435caf...                  NaN   \n",
       "...                                                                 ...   \n",
       "ff22bb6d55f41ee8113d4de6bd348fd845628bb3c74e34e...                  NaN   \n",
       "ff22f7efb8062d415388041138fba6b1db9daf7ebc6e0b9...                  NaN   \n",
       "ff2f6996db3ac38c5ccda6b1ac02e3167daec5d64edb2ad...                  NaN   \n",
       "ff31400cc83f401cfcd3e22e826a983f1c8715a965b5f9c...                  NaN   \n",
       "ff315966557c38c4322aa5833a17bf12ddb1470e7306936...                  NaN   \n",
       "ff35f5fc4ef7f95c1001359d1565726f0786938813e16a8...                  NaN   \n",
       "ff38a87aa8a45729316bb1829043b3b5779a422441ea32a...                  NaN   \n",
       "ff3ec237d771aa84366de96db96f4b1ae4ddc62af19b258...                  NaN   \n",
       "ff3f14e5577043630d88d44eb6e5dbb2aa6a4799dd12c5f...                  NaN   \n",
       "ff46df0768461c68d124ff71748c68f8bf6f4b524ac8e91...                  NaN   \n",
       "ff483027d039a97e3704f87e90cf5cf7d85ce7b6a0b6043...                  NaN   \n",
       "ff4cb67ce9833805dfde1f72aaa32bea21208610e885728...                  NaN   \n",
       "ff4e189a206b9bea54b5bb71e3c6cb536cc15bd1de5320f...                  NaN   \n",
       "ff65c46f44cf5f5816bd3da3f411baf44bf11c219f44e75...                  NaN   \n",
       "ff6f36d64e689512a14811e774b4d7f325af80948f8299a...                  NaN   \n",
       "ff821eab5f3bbed5eca98db7c37137939a9a370df8fb9d5...                  NaN   \n",
       "ff824ba62d220043b12d2b56fa701b824574b9e29f2b421...                  NaN   \n",
       "ff8d84312615f8aa92c084bfeff85b78394357df3505bd2...                  NaN   \n",
       "ffa4b8808e21104ce4c16862e25ffec81f0e11f8921cb6c...                  NaN   \n",
       "ffa961a14655268c075b51be542ec2b7c44a34c9375faca...                  NaN   \n",
       "ffad69987ad158ada2fad3a9c227c5eca4742964748f49e...                  NaN   \n",
       "ffaed24338cdc9e498256b592afcb533d5061fc64b0c619...                  NaN   \n",
       "ffbaa376059cabe1147a391caaf0530ea8112408ce27615...                  NaN   \n",
       "ffc32ec1ca312b449a89281d9d83609782c942ed681860c...                  NaN   \n",
       "ffdfbc9488f6b9ba68174b1a7641c13e10dbb1394fc3e40...                  NaN   \n",
       "ffe00cd735491064948cf2beb86953cceae1dac72541d4f...                  NaN   \n",
       "ffe05128eb93e5210805737bb58f6478022af7842b53257...                  NaN   \n",
       "ffec8fcce35e86ccfb31f7b4b1157f1eaed30e90b8176d0...                  NaN   \n",
       "ffed8ce7ff305af377b5c3d06188dabb2f2f9b4ad11c6fb...                  NaN   \n",
       "fff45ab76842d3004a05a81e28250b0b5836682984c9758...                  NaN   \n",
       "\n",
       "                                                    page_frac_male  \n",
       "client_id                                                           \n",
       "001ff79cb3429cfdd4ea42f81f394f90838f560aa4b615d...        0.261405  \n",
       "002bf91855b9376496734c1d212627f42fcbea982ac5a70...       -0.747866  \n",
       "002d04da7634441a40c99a4aaf1c261e172c272b4fbe0d6...        1.213305  \n",
       "002ee253fa9e375661665d632e7f28fcd198459654e5cde...        0.930584  \n",
       "00304bc02571ae3bb11a46cc9023e20817409fb4cbde7d8...       -0.181995  \n",
       "00310fc7fe6bf9d5ed87950da9416aa7e6e093ca01c84e9...        1.798556  \n",
       "0038a503d92eabf7bc06bcf29e5cf280b84499a70defd42...       -0.653554  \n",
       "003fab495332266f94060f4a8ccb9cd1b7b6e1872119550...       -0.334998  \n",
       "005af7e1ffa0ece559abeef33ed4856f484235e0a402b55...        0.179762  \n",
       "005e85d81c51e2296345173f12360d98400b7fcae1971cb...       -0.706184  \n",
       "005f7a10eb3a998b33e275c4904faa97c008d1ff834b582...        3.636118  \n",
       "0060004a53ab9ff62e554cf566a6b8e4289775f2ef87034...        1.150730  \n",
       "0061fa9e2554994de5796d3dd49c20981f1f26804072bbd...       -0.614080  \n",
       "0066fba7fa0223299efa62b50910b2d7987229cc9e782d8...        0.320560  \n",
       "006b924cf3abd8b5551a11f85eb3c7f5c55c40ef22e2f71...       -1.284431  \n",
       "006ca4e1d76dc811e645554c68360dd5750b7a70e1e3373...       -0.358830  \n",
       "006d5157df59e6bc88d12b66b2057aa1b0798a697ee9958...       -0.725516  \n",
       "006de105ac37c021eebef4d9bd763c621298cc88d7d9186...       -1.111965  \n",
       "006e95c7d7aa323b18f030eaf7fb31059640c1042b65f32...       -2.130723  \n",
       "00710a3a7950a23bfab9e9f227bae85af9553ca81c53ff8...       -2.304013  \n",
       "0071523d32f55a004e29d50112dda381aac267af3d0ed11...        2.801405  \n",
       "007921bc749cd4b91b59d7c0c0d3ed8cb51174b8332784c...       -0.736307  \n",
       "0080e0ca61ae1a56ad232514c2b66afbb243c37920faf5b...        0.639490  \n",
       "00819e9628908f89cf77504b76cd6b20005a3e09eb47b5a...       -0.031277  \n",
       "00941daf012c142952823fe4ad111b264557e7e8f4dcee9...       -0.217362  \n",
       "009db091c0ca9f510021f2138c2ecc2c1da8f63e8243ac0...       -0.766319  \n",
       "00a6400d067e6db0d88e8b881abcc403ad5eb37567d8ca9...        0.320560  \n",
       "00a9c795820cea626313b5994e09f0b14b2de57583e4e73...       -0.041351  \n",
       "00acda36d26d760af23b76f69f381df63171b9d3fbb0580...       -0.766503  \n",
       "00bc25d94ecca82d7edff8e8e42fc798f24efa8b9435caf...       -0.370285  \n",
       "...                                                            ...  \n",
       "ff22bb6d55f41ee8113d4de6bd348fd845628bb3c74e34e...        2.802094  \n",
       "ff22f7efb8062d415388041138fba6b1db9daf7ebc6e0b9...       -1.499803  \n",
       "ff2f6996db3ac38c5ccda6b1ac02e3167daec5d64edb2ad...       -0.717892  \n",
       "ff31400cc83f401cfcd3e22e826a983f1c8715a965b5f9c...        0.473362  \n",
       "ff315966557c38c4322aa5833a17bf12ddb1470e7306936...        0.261710  \n",
       "ff35f5fc4ef7f95c1001359d1565726f0786938813e16a8...        0.289565  \n",
       "ff38a87aa8a45729316bb1829043b3b5779a422441ea32a...       -0.636713  \n",
       "ff3ec237d771aa84366de96db96f4b1ae4ddc62af19b258...        0.661345  \n",
       "ff3f14e5577043630d88d44eb6e5dbb2aa6a4799dd12c5f...       -0.604861  \n",
       "ff46df0768461c68d124ff71748c68f8bf6f4b524ac8e91...        2.287308  \n",
       "ff483027d039a97e3704f87e90cf5cf7d85ce7b6a0b6043...       -0.334998  \n",
       "ff4cb67ce9833805dfde1f72aaa32bea21208610e885728...       -0.219888  \n",
       "ff4e189a206b9bea54b5bb71e3c6cb536cc15bd1de5320f...        4.881117  \n",
       "ff65c46f44cf5f5816bd3da3f411baf44bf11c219f44e75...        3.905612  \n",
       "ff6f36d64e689512a14811e774b4d7f325af80948f8299a...        0.139564  \n",
       "ff821eab5f3bbed5eca98db7c37137939a9a370df8fb9d5...       -0.534997  \n",
       "ff824ba62d220043b12d2b56fa701b824574b9e29f2b421...       -1.828127  \n",
       "ff8d84312615f8aa92c084bfeff85b78394357df3505bd2...       -1.930111  \n",
       "ffa4b8808e21104ce4c16862e25ffec81f0e11f8921cb6c...        2.697888  \n",
       "ffa961a14655268c075b51be542ec2b7c44a34c9375faca...       -0.334998  \n",
       "ffad69987ad158ada2fad3a9c227c5eca4742964748f49e...        0.179762  \n",
       "ffaed24338cdc9e498256b592afcb533d5061fc64b0c619...        0.320078  \n",
       "ffbaa376059cabe1147a391caaf0530ea8112408ce27615...       -0.156319  \n",
       "ffc32ec1ca312b449a89281d9d83609782c942ed681860c...       -0.747866  \n",
       "ffdfbc9488f6b9ba68174b1a7641c13e10dbb1394fc3e40...       -0.675297  \n",
       "ffe00cd735491064948cf2beb86953cceae1dac72541d4f...       -0.587675  \n",
       "ffe05128eb93e5210805737bb58f6478022af7842b53257...       -1.562991  \n",
       "ffec8fcce35e86ccfb31f7b4b1157f1eaed30e90b8176d0...       -1.713583  \n",
       "ffed8ce7ff305af377b5c3d06188dabb2f2f9b4ad11c6fb...        3.142501  \n",
       "fff45ab76842d3004a05a81e28250b0b5836682984c9758...       -0.251951  \n",
       "\n",
       "[10342 rows x 4 columns]"
      ]
     },
     "execution_count": 30,
     "metadata": {},
     "output_type": "execute_result"
    }
   ],
   "source": [
    "X_train[X_train['avg_time_page [min]'].isnull()]"
   ]
  },
  {
   "cell_type": "code",
   "execution_count": null,
   "metadata": {
    "collapsed": true
   },
   "outputs": [],
   "source": []
  },
  {
   "cell_type": "code",
   "execution_count": null,
   "metadata": {
    "collapsed": false
   },
   "outputs": [],
   "source": [
    "# Logistic Regression\n",
    "del X_train['avg_time_page [min]']\n",
    "logreg = LogisticRegression(class_weight='balanced', scoring='roc_auc')\n",
    "cross_val_score(logreg, X_train, y_train, cv=3)"
   ]
  },
  {
   "cell_type": "code",
   "execution_count": 35,
   "metadata": {
    "collapsed": false
   },
   "outputs": [
    {
     "data": {
      "text/plain": [
       "LogisticRegression(C=1.0, class_weight='balanced', dual=False,\n",
       "          fit_intercept=True, intercept_scaling=1, max_iter=100,\n",
       "          multi_class='ovr', n_jobs=1, penalty='l2', random_state=None,\n",
       "          solver='liblinear', tol=0.0001, verbose=0, warm_start=False)"
      ]
     },
     "execution_count": 35,
     "metadata": {},
     "output_type": "execute_result"
    }
   ],
   "source": [
    "logreg.fit(X_train, y_train)"
   ]
  },
  {
   "cell_type": "code",
   "execution_count": 33,
   "metadata": {
    "collapsed": false
   },
   "outputs": [
    {
     "ename": "KeyboardInterrupt",
     "evalue": "",
     "output_type": "error",
     "traceback": [
      "\u001b[0;31m---------------------------------------------------------------------------\u001b[0m",
      "\u001b[0;31mKeyboardInterrupt\u001b[0m                         Traceback (most recent call last)",
      "\u001b[0;32m<ipython-input-33-fc8423e81d61>\u001b[0m in \u001b[0;36m<module>\u001b[0;34m()\u001b[0m\n\u001b[1;32m      2\u001b[0m \u001b[0;32mfrom\u001b[0m \u001b[0msklearn\u001b[0m\u001b[0;34m.\u001b[0m\u001b[0msvm\u001b[0m \u001b[0;32mimport\u001b[0m \u001b[0mSVC\u001b[0m\u001b[0;34m,\u001b[0m \u001b[0mLinearSVC\u001b[0m\u001b[0;34m\u001b[0m\u001b[0m\n\u001b[1;32m      3\u001b[0m \u001b[0msvc\u001b[0m \u001b[0;34m=\u001b[0m \u001b[0mSVC\u001b[0m\u001b[0;34m(\u001b[0m\u001b[0;34m)\u001b[0m\u001b[0;34m\u001b[0m\u001b[0m\n\u001b[0;32m----> 4\u001b[0;31m \u001b[0mcross_val_score\u001b[0m\u001b[0;34m(\u001b[0m\u001b[0msvc\u001b[0m\u001b[0;34m,\u001b[0m \u001b[0mX_train\u001b[0m\u001b[0;34m,\u001b[0m \u001b[0my_train\u001b[0m\u001b[0;34m)\u001b[0m\u001b[0;34m\u001b[0m\u001b[0m\n\u001b[0m",
      "\u001b[0;32m/Users/micolderuvo/anaconda3/lib/python3.6/site-packages/sklearn/model_selection/_validation.py\u001b[0m in \u001b[0;36mcross_val_score\u001b[0;34m(estimator, X, y, groups, scoring, cv, n_jobs, verbose, fit_params, pre_dispatch)\u001b[0m\n\u001b[1;32m    138\u001b[0m                                               \u001b[0mtrain\u001b[0m\u001b[0;34m,\u001b[0m \u001b[0mtest\u001b[0m\u001b[0;34m,\u001b[0m \u001b[0mverbose\u001b[0m\u001b[0;34m,\u001b[0m \u001b[0;32mNone\u001b[0m\u001b[0;34m,\u001b[0m\u001b[0;34m\u001b[0m\u001b[0m\n\u001b[1;32m    139\u001b[0m                                               fit_params)\n\u001b[0;32m--> 140\u001b[0;31m                       for train, test in cv_iter)\n\u001b[0m\u001b[1;32m    141\u001b[0m     \u001b[0;32mreturn\u001b[0m \u001b[0mnp\u001b[0m\u001b[0;34m.\u001b[0m\u001b[0marray\u001b[0m\u001b[0;34m(\u001b[0m\u001b[0mscores\u001b[0m\u001b[0;34m)\u001b[0m\u001b[0;34m[\u001b[0m\u001b[0;34m:\u001b[0m\u001b[0;34m,\u001b[0m \u001b[0;36m0\u001b[0m\u001b[0;34m]\u001b[0m\u001b[0;34m\u001b[0m\u001b[0m\n\u001b[1;32m    142\u001b[0m \u001b[0;34m\u001b[0m\u001b[0m\n",
      "\u001b[0;32m/Users/micolderuvo/anaconda3/lib/python3.6/site-packages/sklearn/externals/joblib/parallel.py\u001b[0m in \u001b[0;36m__call__\u001b[0;34m(self, iterable)\u001b[0m\n\u001b[1;32m    756\u001b[0m             \u001b[0;31m# was dispatched. In particular this covers the edge\u001b[0m\u001b[0;34m\u001b[0m\u001b[0;34m\u001b[0m\u001b[0m\n\u001b[1;32m    757\u001b[0m             \u001b[0;31m# case of Parallel used with an exhausted iterator.\u001b[0m\u001b[0;34m\u001b[0m\u001b[0;34m\u001b[0m\u001b[0m\n\u001b[0;32m--> 758\u001b[0;31m             \u001b[0;32mwhile\u001b[0m \u001b[0mself\u001b[0m\u001b[0;34m.\u001b[0m\u001b[0mdispatch_one_batch\u001b[0m\u001b[0;34m(\u001b[0m\u001b[0miterator\u001b[0m\u001b[0;34m)\u001b[0m\u001b[0;34m:\u001b[0m\u001b[0;34m\u001b[0m\u001b[0m\n\u001b[0m\u001b[1;32m    759\u001b[0m                 \u001b[0mself\u001b[0m\u001b[0;34m.\u001b[0m\u001b[0m_iterating\u001b[0m \u001b[0;34m=\u001b[0m \u001b[0;32mTrue\u001b[0m\u001b[0;34m\u001b[0m\u001b[0m\n\u001b[1;32m    760\u001b[0m             \u001b[0;32melse\u001b[0m\u001b[0;34m:\u001b[0m\u001b[0;34m\u001b[0m\u001b[0m\n",
      "\u001b[0;32m/Users/micolderuvo/anaconda3/lib/python3.6/site-packages/sklearn/externals/joblib/parallel.py\u001b[0m in \u001b[0;36mdispatch_one_batch\u001b[0;34m(self, iterator)\u001b[0m\n\u001b[1;32m    606\u001b[0m                 \u001b[0;32mreturn\u001b[0m \u001b[0;32mFalse\u001b[0m\u001b[0;34m\u001b[0m\u001b[0m\n\u001b[1;32m    607\u001b[0m             \u001b[0;32melse\u001b[0m\u001b[0;34m:\u001b[0m\u001b[0;34m\u001b[0m\u001b[0m\n\u001b[0;32m--> 608\u001b[0;31m                 \u001b[0mself\u001b[0m\u001b[0;34m.\u001b[0m\u001b[0m_dispatch\u001b[0m\u001b[0;34m(\u001b[0m\u001b[0mtasks\u001b[0m\u001b[0;34m)\u001b[0m\u001b[0;34m\u001b[0m\u001b[0m\n\u001b[0m\u001b[1;32m    609\u001b[0m                 \u001b[0;32mreturn\u001b[0m \u001b[0;32mTrue\u001b[0m\u001b[0;34m\u001b[0m\u001b[0m\n\u001b[1;32m    610\u001b[0m \u001b[0;34m\u001b[0m\u001b[0m\n",
      "\u001b[0;32m/Users/micolderuvo/anaconda3/lib/python3.6/site-packages/sklearn/externals/joblib/parallel.py\u001b[0m in \u001b[0;36m_dispatch\u001b[0;34m(self, batch)\u001b[0m\n\u001b[1;32m    569\u001b[0m         \u001b[0mdispatch_timestamp\u001b[0m \u001b[0;34m=\u001b[0m \u001b[0mtime\u001b[0m\u001b[0;34m.\u001b[0m\u001b[0mtime\u001b[0m\u001b[0;34m(\u001b[0m\u001b[0;34m)\u001b[0m\u001b[0;34m\u001b[0m\u001b[0m\n\u001b[1;32m    570\u001b[0m         \u001b[0mcb\u001b[0m \u001b[0;34m=\u001b[0m \u001b[0mBatchCompletionCallBack\u001b[0m\u001b[0;34m(\u001b[0m\u001b[0mdispatch_timestamp\u001b[0m\u001b[0;34m,\u001b[0m \u001b[0mlen\u001b[0m\u001b[0;34m(\u001b[0m\u001b[0mbatch\u001b[0m\u001b[0;34m)\u001b[0m\u001b[0;34m,\u001b[0m \u001b[0mself\u001b[0m\u001b[0;34m)\u001b[0m\u001b[0;34m\u001b[0m\u001b[0m\n\u001b[0;32m--> 571\u001b[0;31m         \u001b[0mjob\u001b[0m \u001b[0;34m=\u001b[0m \u001b[0mself\u001b[0m\u001b[0;34m.\u001b[0m\u001b[0m_backend\u001b[0m\u001b[0;34m.\u001b[0m\u001b[0mapply_async\u001b[0m\u001b[0;34m(\u001b[0m\u001b[0mbatch\u001b[0m\u001b[0;34m,\u001b[0m \u001b[0mcallback\u001b[0m\u001b[0;34m=\u001b[0m\u001b[0mcb\u001b[0m\u001b[0;34m)\u001b[0m\u001b[0;34m\u001b[0m\u001b[0m\n\u001b[0m\u001b[1;32m    572\u001b[0m         \u001b[0mself\u001b[0m\u001b[0;34m.\u001b[0m\u001b[0m_jobs\u001b[0m\u001b[0;34m.\u001b[0m\u001b[0mappend\u001b[0m\u001b[0;34m(\u001b[0m\u001b[0mjob\u001b[0m\u001b[0;34m)\u001b[0m\u001b[0;34m\u001b[0m\u001b[0m\n\u001b[1;32m    573\u001b[0m \u001b[0;34m\u001b[0m\u001b[0m\n",
      "\u001b[0;32m/Users/micolderuvo/anaconda3/lib/python3.6/site-packages/sklearn/externals/joblib/_parallel_backends.py\u001b[0m in \u001b[0;36mapply_async\u001b[0;34m(self, func, callback)\u001b[0m\n\u001b[1;32m    107\u001b[0m     \u001b[0;32mdef\u001b[0m \u001b[0mapply_async\u001b[0m\u001b[0;34m(\u001b[0m\u001b[0mself\u001b[0m\u001b[0;34m,\u001b[0m \u001b[0mfunc\u001b[0m\u001b[0;34m,\u001b[0m \u001b[0mcallback\u001b[0m\u001b[0;34m=\u001b[0m\u001b[0;32mNone\u001b[0m\u001b[0;34m)\u001b[0m\u001b[0;34m:\u001b[0m\u001b[0;34m\u001b[0m\u001b[0m\n\u001b[1;32m    108\u001b[0m         \u001b[0;34m\"\"\"Schedule a func to be run\"\"\"\u001b[0m\u001b[0;34m\u001b[0m\u001b[0m\n\u001b[0;32m--> 109\u001b[0;31m         \u001b[0mresult\u001b[0m \u001b[0;34m=\u001b[0m \u001b[0mImmediateResult\u001b[0m\u001b[0;34m(\u001b[0m\u001b[0mfunc\u001b[0m\u001b[0;34m)\u001b[0m\u001b[0;34m\u001b[0m\u001b[0m\n\u001b[0m\u001b[1;32m    110\u001b[0m         \u001b[0;32mif\u001b[0m \u001b[0mcallback\u001b[0m\u001b[0;34m:\u001b[0m\u001b[0;34m\u001b[0m\u001b[0m\n\u001b[1;32m    111\u001b[0m             \u001b[0mcallback\u001b[0m\u001b[0;34m(\u001b[0m\u001b[0mresult\u001b[0m\u001b[0;34m)\u001b[0m\u001b[0;34m\u001b[0m\u001b[0m\n",
      "\u001b[0;32m/Users/micolderuvo/anaconda3/lib/python3.6/site-packages/sklearn/externals/joblib/_parallel_backends.py\u001b[0m in \u001b[0;36m__init__\u001b[0;34m(self, batch)\u001b[0m\n\u001b[1;32m    324\u001b[0m         \u001b[0;31m# Don't delay the application, to avoid keeping the input\u001b[0m\u001b[0;34m\u001b[0m\u001b[0;34m\u001b[0m\u001b[0m\n\u001b[1;32m    325\u001b[0m         \u001b[0;31m# arguments in memory\u001b[0m\u001b[0;34m\u001b[0m\u001b[0;34m\u001b[0m\u001b[0m\n\u001b[0;32m--> 326\u001b[0;31m         \u001b[0mself\u001b[0m\u001b[0;34m.\u001b[0m\u001b[0mresults\u001b[0m \u001b[0;34m=\u001b[0m \u001b[0mbatch\u001b[0m\u001b[0;34m(\u001b[0m\u001b[0;34m)\u001b[0m\u001b[0;34m\u001b[0m\u001b[0m\n\u001b[0m\u001b[1;32m    327\u001b[0m \u001b[0;34m\u001b[0m\u001b[0m\n\u001b[1;32m    328\u001b[0m     \u001b[0;32mdef\u001b[0m \u001b[0mget\u001b[0m\u001b[0;34m(\u001b[0m\u001b[0mself\u001b[0m\u001b[0;34m)\u001b[0m\u001b[0;34m:\u001b[0m\u001b[0;34m\u001b[0m\u001b[0m\n",
      "\u001b[0;32m/Users/micolderuvo/anaconda3/lib/python3.6/site-packages/sklearn/externals/joblib/parallel.py\u001b[0m in \u001b[0;36m__call__\u001b[0;34m(self)\u001b[0m\n\u001b[1;32m    129\u001b[0m \u001b[0;34m\u001b[0m\u001b[0m\n\u001b[1;32m    130\u001b[0m     \u001b[0;32mdef\u001b[0m \u001b[0m__call__\u001b[0m\u001b[0;34m(\u001b[0m\u001b[0mself\u001b[0m\u001b[0;34m)\u001b[0m\u001b[0;34m:\u001b[0m\u001b[0;34m\u001b[0m\u001b[0m\n\u001b[0;32m--> 131\u001b[0;31m         \u001b[0;32mreturn\u001b[0m \u001b[0;34m[\u001b[0m\u001b[0mfunc\u001b[0m\u001b[0;34m(\u001b[0m\u001b[0;34m*\u001b[0m\u001b[0margs\u001b[0m\u001b[0;34m,\u001b[0m \u001b[0;34m**\u001b[0m\u001b[0mkwargs\u001b[0m\u001b[0;34m)\u001b[0m \u001b[0;32mfor\u001b[0m \u001b[0mfunc\u001b[0m\u001b[0;34m,\u001b[0m \u001b[0margs\u001b[0m\u001b[0;34m,\u001b[0m \u001b[0mkwargs\u001b[0m \u001b[0;32min\u001b[0m \u001b[0mself\u001b[0m\u001b[0;34m.\u001b[0m\u001b[0mitems\u001b[0m\u001b[0;34m]\u001b[0m\u001b[0;34m\u001b[0m\u001b[0m\n\u001b[0m\u001b[1;32m    132\u001b[0m \u001b[0;34m\u001b[0m\u001b[0m\n\u001b[1;32m    133\u001b[0m     \u001b[0;32mdef\u001b[0m \u001b[0m__len__\u001b[0m\u001b[0;34m(\u001b[0m\u001b[0mself\u001b[0m\u001b[0;34m)\u001b[0m\u001b[0;34m:\u001b[0m\u001b[0;34m\u001b[0m\u001b[0m\n",
      "\u001b[0;32m/Users/micolderuvo/anaconda3/lib/python3.6/site-packages/sklearn/externals/joblib/parallel.py\u001b[0m in \u001b[0;36m<listcomp>\u001b[0;34m(.0)\u001b[0m\n\u001b[1;32m    129\u001b[0m \u001b[0;34m\u001b[0m\u001b[0m\n\u001b[1;32m    130\u001b[0m     \u001b[0;32mdef\u001b[0m \u001b[0m__call__\u001b[0m\u001b[0;34m(\u001b[0m\u001b[0mself\u001b[0m\u001b[0;34m)\u001b[0m\u001b[0;34m:\u001b[0m\u001b[0;34m\u001b[0m\u001b[0m\n\u001b[0;32m--> 131\u001b[0;31m         \u001b[0;32mreturn\u001b[0m \u001b[0;34m[\u001b[0m\u001b[0mfunc\u001b[0m\u001b[0;34m(\u001b[0m\u001b[0;34m*\u001b[0m\u001b[0margs\u001b[0m\u001b[0;34m,\u001b[0m \u001b[0;34m**\u001b[0m\u001b[0mkwargs\u001b[0m\u001b[0;34m)\u001b[0m \u001b[0;32mfor\u001b[0m \u001b[0mfunc\u001b[0m\u001b[0;34m,\u001b[0m \u001b[0margs\u001b[0m\u001b[0;34m,\u001b[0m \u001b[0mkwargs\u001b[0m \u001b[0;32min\u001b[0m \u001b[0mself\u001b[0m\u001b[0;34m.\u001b[0m\u001b[0mitems\u001b[0m\u001b[0;34m]\u001b[0m\u001b[0;34m\u001b[0m\u001b[0m\n\u001b[0m\u001b[1;32m    132\u001b[0m \u001b[0;34m\u001b[0m\u001b[0m\n\u001b[1;32m    133\u001b[0m     \u001b[0;32mdef\u001b[0m \u001b[0m__len__\u001b[0m\u001b[0;34m(\u001b[0m\u001b[0mself\u001b[0m\u001b[0;34m)\u001b[0m\u001b[0;34m:\u001b[0m\u001b[0;34m\u001b[0m\u001b[0m\n",
      "\u001b[0;32m/Users/micolderuvo/anaconda3/lib/python3.6/site-packages/sklearn/model_selection/_validation.py\u001b[0m in \u001b[0;36m_fit_and_score\u001b[0;34m(estimator, X, y, scorer, train, test, verbose, parameters, fit_params, return_train_score, return_parameters, return_n_test_samples, return_times, error_score)\u001b[0m\n\u001b[1;32m    236\u001b[0m             \u001b[0mestimator\u001b[0m\u001b[0;34m.\u001b[0m\u001b[0mfit\u001b[0m\u001b[0;34m(\u001b[0m\u001b[0mX_train\u001b[0m\u001b[0;34m,\u001b[0m \u001b[0;34m**\u001b[0m\u001b[0mfit_params\u001b[0m\u001b[0;34m)\u001b[0m\u001b[0;34m\u001b[0m\u001b[0m\n\u001b[1;32m    237\u001b[0m         \u001b[0;32melse\u001b[0m\u001b[0;34m:\u001b[0m\u001b[0;34m\u001b[0m\u001b[0m\n\u001b[0;32m--> 238\u001b[0;31m             \u001b[0mestimator\u001b[0m\u001b[0;34m.\u001b[0m\u001b[0mfit\u001b[0m\u001b[0;34m(\u001b[0m\u001b[0mX_train\u001b[0m\u001b[0;34m,\u001b[0m \u001b[0my_train\u001b[0m\u001b[0;34m,\u001b[0m \u001b[0;34m**\u001b[0m\u001b[0mfit_params\u001b[0m\u001b[0;34m)\u001b[0m\u001b[0;34m\u001b[0m\u001b[0m\n\u001b[0m\u001b[1;32m    239\u001b[0m \u001b[0;34m\u001b[0m\u001b[0m\n\u001b[1;32m    240\u001b[0m     \u001b[0;32mexcept\u001b[0m \u001b[0mException\u001b[0m \u001b[0;32mas\u001b[0m \u001b[0me\u001b[0m\u001b[0;34m:\u001b[0m\u001b[0;34m\u001b[0m\u001b[0m\n",
      "\u001b[0;32m/Users/micolderuvo/anaconda3/lib/python3.6/site-packages/sklearn/svm/base.py\u001b[0m in \u001b[0;36mfit\u001b[0;34m(self, X, y, sample_weight)\u001b[0m\n\u001b[1;32m    187\u001b[0m \u001b[0;34m\u001b[0m\u001b[0m\n\u001b[1;32m    188\u001b[0m         \u001b[0mseed\u001b[0m \u001b[0;34m=\u001b[0m \u001b[0mrnd\u001b[0m\u001b[0;34m.\u001b[0m\u001b[0mrandint\u001b[0m\u001b[0;34m(\u001b[0m\u001b[0mnp\u001b[0m\u001b[0;34m.\u001b[0m\u001b[0miinfo\u001b[0m\u001b[0;34m(\u001b[0m\u001b[0;34m'i'\u001b[0m\u001b[0;34m)\u001b[0m\u001b[0;34m.\u001b[0m\u001b[0mmax\u001b[0m\u001b[0;34m)\u001b[0m\u001b[0;34m\u001b[0m\u001b[0m\n\u001b[0;32m--> 189\u001b[0;31m         \u001b[0mfit\u001b[0m\u001b[0;34m(\u001b[0m\u001b[0mX\u001b[0m\u001b[0;34m,\u001b[0m \u001b[0my\u001b[0m\u001b[0;34m,\u001b[0m \u001b[0msample_weight\u001b[0m\u001b[0;34m,\u001b[0m \u001b[0msolver_type\u001b[0m\u001b[0;34m,\u001b[0m \u001b[0mkernel\u001b[0m\u001b[0;34m,\u001b[0m \u001b[0mrandom_seed\u001b[0m\u001b[0;34m=\u001b[0m\u001b[0mseed\u001b[0m\u001b[0;34m)\u001b[0m\u001b[0;34m\u001b[0m\u001b[0m\n\u001b[0m\u001b[1;32m    190\u001b[0m         \u001b[0;31m# see comment on the other call to np.iinfo in this file\u001b[0m\u001b[0;34m\u001b[0m\u001b[0;34m\u001b[0m\u001b[0m\n\u001b[1;32m    191\u001b[0m \u001b[0;34m\u001b[0m\u001b[0m\n",
      "\u001b[0;32m/Users/micolderuvo/anaconda3/lib/python3.6/site-packages/sklearn/svm/base.py\u001b[0m in \u001b[0;36m_dense_fit\u001b[0;34m(self, X, y, sample_weight, solver_type, kernel, random_seed)\u001b[0m\n\u001b[1;32m    254\u001b[0m                 \u001b[0mcache_size\u001b[0m\u001b[0;34m=\u001b[0m\u001b[0mself\u001b[0m\u001b[0;34m.\u001b[0m\u001b[0mcache_size\u001b[0m\u001b[0;34m,\u001b[0m \u001b[0mcoef0\u001b[0m\u001b[0;34m=\u001b[0m\u001b[0mself\u001b[0m\u001b[0;34m.\u001b[0m\u001b[0mcoef0\u001b[0m\u001b[0;34m,\u001b[0m\u001b[0;34m\u001b[0m\u001b[0m\n\u001b[1;32m    255\u001b[0m                 \u001b[0mgamma\u001b[0m\u001b[0;34m=\u001b[0m\u001b[0mself\u001b[0m\u001b[0;34m.\u001b[0m\u001b[0m_gamma\u001b[0m\u001b[0;34m,\u001b[0m \u001b[0mepsilon\u001b[0m\u001b[0;34m=\u001b[0m\u001b[0mself\u001b[0m\u001b[0;34m.\u001b[0m\u001b[0mepsilon\u001b[0m\u001b[0;34m,\u001b[0m\u001b[0;34m\u001b[0m\u001b[0m\n\u001b[0;32m--> 256\u001b[0;31m                 max_iter=self.max_iter, random_seed=random_seed)\n\u001b[0m\u001b[1;32m    257\u001b[0m \u001b[0;34m\u001b[0m\u001b[0m\n\u001b[1;32m    258\u001b[0m         \u001b[0mself\u001b[0m\u001b[0;34m.\u001b[0m\u001b[0m_warn_from_fit_status\u001b[0m\u001b[0;34m(\u001b[0m\u001b[0;34m)\u001b[0m\u001b[0;34m\u001b[0m\u001b[0m\n",
      "\u001b[0;31mKeyboardInterrupt\u001b[0m: "
     ]
    }
   ],
   "source": [
    "# Support Vector Machine\n",
    "from sklearn.svm import SVC, LinearSVC\n",
    "svc = SVC()\n",
    "cross_val_score(svc, X_train, y_train)"
   ]
  },
  {
   "cell_type": "code",
   "execution_count": null,
   "metadata": {
    "collapsed": false
   },
   "outputs": [],
   "source": [
    "# Random Forest\n",
    "\n",
    "from sklearn.ensemble import RandomForestClassifier\n",
    "rf = RandomForestClassifier(n_estimators=100)\n",
    "cross_val_score(rf, X_train, y_train)\n"
   ]
  },
  {
   "cell_type": "code",
   "execution_count": null,
   "metadata": {
    "collapsed": false
   },
   "outputs": [],
   "source": [
    "#Gradient Boosting\n",
    "from sklearn.ensemble import GradientBoostingClassifier\n",
    "gb = GradientBoostingClassifier(n_estimators=100, learning_rate=0.01)\n",
    "cross_val_score(gb, X_train, y_train)"
   ]
  },
  {
   "cell_type": "markdown",
   "metadata": {},
   "source": [
    "## 6. Predict on Test Data"
   ]
  },
  {
   "cell_type": "code",
   "execution_count": null,
   "metadata": {
    "collapsed": false
   },
   "outputs": [],
   "source": [
    "test_data = test_data.join(male_page.to_frame(name=\"page_frac_male\"), on=\"page_path\", how=\"right\")\n",
    "test_data.head()"
   ]
  },
  {
   "cell_type": "code",
   "execution_count": null,
   "metadata": {
    "collapsed": false
   },
   "outputs": [],
   "source": [
    "# Check if the pages in the train set are the same here - to check because I don't have gender in the test set\n",
    "test_data.page_frac_male.isnull().sum()"
   ]
  },
  {
   "cell_type": "code",
   "execution_count": null,
   "metadata": {
    "collapsed": true
   },
   "outputs": [],
   "source": [
    "test_data = test_data.sort_values(by=['client_id','click_time'], ascending=True)"
   ]
  },
  {
   "cell_type": "markdown",
   "metadata": {},
   "source": [
    "**Computing Features**"
   ]
  },
  {
   "cell_type": "code",
   "execution_count": null,
   "metadata": {
    "collapsed": false
   },
   "outputs": [],
   "source": [
    "test_avg_male = test_data.groupby(\"client_id\").agg({\"page_frac_male\": \"mean\"})\n",
    "test_avg_male.head()"
   ]
  },
  {
   "cell_type": "code",
   "execution_count": null,
   "metadata": {
    "collapsed": false
   },
   "outputs": [],
   "source": [
    "test_click_per_day = (test_data[['client_id','page_path']].groupby('client_id').agg('count')) / tot_day_test\n",
    "test_click_per_day['click/day'] = test_click_per_day['page_path']\n",
    "del test_click_per_day['page_path']\n",
    "test_click_per_day.head()"
   ]
  },
  {
   "cell_type": "code",
   "execution_count": null,
   "metadata": {
    "collapsed": false
   },
   "outputs": [],
   "source": [
    "test_no_sessions_per_day = test_data.groupby('client_id').agg({'click_time': get_no_session}) / tot_day_test\n",
    "test_no_sessions_per_day['no_sessions/day'] = test_no_sessions_per_day['click_time']\n",
    "del test_no_sessions_per_day['click_time']\n",
    "test_no_sessions_per_day.head()"
   ]
  },
  {
   "cell_type": "code",
   "execution_count": null,
   "metadata": {
    "collapsed": false
   },
   "outputs": [],
   "source": [
    "test_time_spent_view = test_data.groupby('client_id').agg({'click_time': get_time_view})\n",
    "test_time_spent_view['avg_time_page [min]'] = (test_time_spent_view['click_time']) / 60000 #minutes\n",
    "del test_time_spent_view['click_time']\n",
    "test_time_spent_view.head()"
   ]
  },
  {
   "cell_type": "code",
   "execution_count": null,
   "metadata": {
    "collapsed": false
   },
   "outputs": [],
   "source": [
    "test_time_spent_view.describe()"
   ]
  },
  {
   "cell_type": "code",
   "execution_count": null,
   "metadata": {
    "collapsed": true
   },
   "outputs": [],
   "source": [
    "test_data_merged = test_avg_male\\\n",
    "    .merge(test_click_per_day, how='outer', left_index=True, right_index=True)\\\n",
    "    .merge(test_no_sessions_per_day, how='outer', left_index=True, right_index=True)\\\n",
    "    .merge(test_time_spent_view, how='outer', left_index=True, right_index=True)"
   ]
  },
  {
   "cell_type": "code",
   "execution_count": null,
   "metadata": {
    "collapsed": false
   },
   "outputs": [],
   "source": [
    "test_data_merged.head()"
   ]
  },
  {
   "cell_type": "markdown",
   "metadata": {},
   "source": [
    "**Feature standardization - test dataset**"
   ]
  },
  {
   "cell_type": "code",
   "execution_count": null,
   "metadata": {
    "collapsed": true
   },
   "outputs": [],
   "source": [
    "test_data_merged[features] = (test_data_merged[features] - means[features]) / stds[features]"
   ]
  },
  {
   "cell_type": "code",
   "execution_count": null,
   "metadata": {
    "collapsed": false
   },
   "outputs": [],
   "source": [
    "test_data_merged.describe()"
   ]
  },
  {
   "cell_type": "code",
   "execution_count": null,
   "metadata": {
    "collapsed": false
   },
   "outputs": [],
   "source": [
    "X_test = test_data_merged[features]"
   ]
  },
  {
   "cell_type": "code",
   "execution_count": null,
   "metadata": {
    "collapsed": true
   },
   "outputs": [],
   "source": [
    "test_data_merged['gender_predicted'] = logreg.predict(X_test)"
   ]
  },
  {
   "cell_type": "code",
   "execution_count": null,
   "metadata": {
    "collapsed": false
   },
   "outputs": [],
   "source": [
    "test_data_merged.head()"
   ]
  },
  {
   "cell_type": "markdown",
   "metadata": {},
   "source": [
    "## 7. Export the Predicted Results"
   ]
  },
  {
   "cell_type": "code",
   "execution_count": null,
   "metadata": {
    "collapsed": true
   },
   "outputs": [],
   "source": [
    "test_data_merged.to_csv('gender_predicted.csv', columns=['gender_predicted'])"
   ]
  }
 ],
 "metadata": {
  "kernelspec": {
   "display_name": "Python 3",
   "language": "python",
   "name": "python3"
  },
  "language_info": {
   "codemirror_mode": {
    "name": "ipython",
    "version": 3
   },
   "file_extension": ".py",
   "mimetype": "text/x-python",
   "name": "python",
   "nbconvert_exporter": "python",
   "pygments_lexer": "ipython3",
   "version": "3.6.0"
  }
 },
 "nbformat": 4,
 "nbformat_minor": 0
}
